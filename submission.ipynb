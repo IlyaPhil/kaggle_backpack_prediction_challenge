{
 "cells": [
  {
   "cell_type": "code",
   "execution_count": 5,
   "metadata": {},
   "outputs": [],
   "source": [
    "import pandas as pd\n",
    "import numpy as np\n",
    "import matplotlib.pyplot as plt\n",
    "import seaborn as sns\n",
    "from category_encoders.target_encoder import TargetEncoder\n",
    "from sklearn.model_selection import train_test_split\n",
    "from sklearn.preprocessing import MinMaxScaler, OneHotEncoder\n",
    "from sklearn.pipeline import Pipeline\n",
    "from sklearn.compose import ColumnTransformer\n",
    "from sklearn.linear_model import LinearRegression, Lasso, Ridge\n",
    "from sklearn.model_selection import GridSearchCV\n",
    "from sklearn.metrics import root_mean_squared_error\n",
    "from sklearn.ensemble import StackingRegressor, RandomForestRegressor\n",
    "from catboost import CatBoostRegressor\n",
    "from xgboost import XGBRegressor\n",
    "import optuna\n",
    "import joblib"
   ]
  },
  {
   "cell_type": "markdown",
   "metadata": {},
   "source": [
    "### EDA"
   ]
  },
  {
   "cell_type": "code",
   "execution_count": 6,
   "metadata": {},
   "outputs": [
    {
     "data": {
      "text/html": [
       "<div>\n",
       "<style scoped>\n",
       "    .dataframe tbody tr th:only-of-type {\n",
       "        vertical-align: middle;\n",
       "    }\n",
       "\n",
       "    .dataframe tbody tr th {\n",
       "        vertical-align: top;\n",
       "    }\n",
       "\n",
       "    .dataframe thead th {\n",
       "        text-align: right;\n",
       "    }\n",
       "</style>\n",
       "<table border=\"1\" class=\"dataframe\">\n",
       "  <thead>\n",
       "    <tr style=\"text-align: right;\">\n",
       "      <th></th>\n",
       "      <th>id</th>\n",
       "      <th>Brand</th>\n",
       "      <th>Material</th>\n",
       "      <th>Size</th>\n",
       "      <th>Compartments</th>\n",
       "      <th>Laptop Compartment</th>\n",
       "      <th>Waterproof</th>\n",
       "      <th>Style</th>\n",
       "      <th>Color</th>\n",
       "      <th>Weight Capacity (kg)</th>\n",
       "      <th>Price</th>\n",
       "    </tr>\n",
       "  </thead>\n",
       "  <tbody>\n",
       "    <tr>\n",
       "      <th>0</th>\n",
       "      <td>0</td>\n",
       "      <td>Jansport</td>\n",
       "      <td>Leather</td>\n",
       "      <td>Medium</td>\n",
       "      <td>7.0</td>\n",
       "      <td>Yes</td>\n",
       "      <td>No</td>\n",
       "      <td>Tote</td>\n",
       "      <td>Black</td>\n",
       "      <td>11.611723</td>\n",
       "      <td>112.15875</td>\n",
       "    </tr>\n",
       "    <tr>\n",
       "      <th>1</th>\n",
       "      <td>1</td>\n",
       "      <td>Jansport</td>\n",
       "      <td>Canvas</td>\n",
       "      <td>Small</td>\n",
       "      <td>10.0</td>\n",
       "      <td>Yes</td>\n",
       "      <td>Yes</td>\n",
       "      <td>Messenger</td>\n",
       "      <td>Green</td>\n",
       "      <td>27.078537</td>\n",
       "      <td>68.88056</td>\n",
       "    </tr>\n",
       "    <tr>\n",
       "      <th>2</th>\n",
       "      <td>2</td>\n",
       "      <td>Under Armour</td>\n",
       "      <td>Leather</td>\n",
       "      <td>Small</td>\n",
       "      <td>2.0</td>\n",
       "      <td>Yes</td>\n",
       "      <td>No</td>\n",
       "      <td>Messenger</td>\n",
       "      <td>Red</td>\n",
       "      <td>16.643760</td>\n",
       "      <td>39.17320</td>\n",
       "    </tr>\n",
       "    <tr>\n",
       "      <th>3</th>\n",
       "      <td>3</td>\n",
       "      <td>Nike</td>\n",
       "      <td>Nylon</td>\n",
       "      <td>Small</td>\n",
       "      <td>8.0</td>\n",
       "      <td>Yes</td>\n",
       "      <td>No</td>\n",
       "      <td>Messenger</td>\n",
       "      <td>Green</td>\n",
       "      <td>12.937220</td>\n",
       "      <td>80.60793</td>\n",
       "    </tr>\n",
       "    <tr>\n",
       "      <th>4</th>\n",
       "      <td>4</td>\n",
       "      <td>Adidas</td>\n",
       "      <td>Canvas</td>\n",
       "      <td>Medium</td>\n",
       "      <td>1.0</td>\n",
       "      <td>Yes</td>\n",
       "      <td>Yes</td>\n",
       "      <td>Messenger</td>\n",
       "      <td>Green</td>\n",
       "      <td>17.749338</td>\n",
       "      <td>86.02312</td>\n",
       "    </tr>\n",
       "    <tr>\n",
       "      <th>...</th>\n",
       "      <td>...</td>\n",
       "      <td>...</td>\n",
       "      <td>...</td>\n",
       "      <td>...</td>\n",
       "      <td>...</td>\n",
       "      <td>...</td>\n",
       "      <td>...</td>\n",
       "      <td>...</td>\n",
       "      <td>...</td>\n",
       "      <td>...</td>\n",
       "      <td>...</td>\n",
       "    </tr>\n",
       "    <tr>\n",
       "      <th>299995</th>\n",
       "      <td>299995</td>\n",
       "      <td>Adidas</td>\n",
       "      <td>Leather</td>\n",
       "      <td>Small</td>\n",
       "      <td>9.0</td>\n",
       "      <td>No</td>\n",
       "      <td>No</td>\n",
       "      <td>Tote</td>\n",
       "      <td>Blue</td>\n",
       "      <td>12.730812</td>\n",
       "      <td>129.99749</td>\n",
       "    </tr>\n",
       "    <tr>\n",
       "      <th>299996</th>\n",
       "      <td>299996</td>\n",
       "      <td>Jansport</td>\n",
       "      <td>Leather</td>\n",
       "      <td>Large</td>\n",
       "      <td>6.0</td>\n",
       "      <td>No</td>\n",
       "      <td>Yes</td>\n",
       "      <td>Tote</td>\n",
       "      <td>Blue</td>\n",
       "      <td>26.633182</td>\n",
       "      <td>19.85819</td>\n",
       "    </tr>\n",
       "    <tr>\n",
       "      <th>299997</th>\n",
       "      <td>299997</td>\n",
       "      <td>Puma</td>\n",
       "      <td>Canvas</td>\n",
       "      <td>Large</td>\n",
       "      <td>9.0</td>\n",
       "      <td>Yes</td>\n",
       "      <td>Yes</td>\n",
       "      <td>Backpack</td>\n",
       "      <td>Pink</td>\n",
       "      <td>11.898250</td>\n",
       "      <td>111.41364</td>\n",
       "    </tr>\n",
       "    <tr>\n",
       "      <th>299998</th>\n",
       "      <td>299998</td>\n",
       "      <td>Adidas</td>\n",
       "      <td>Nylon</td>\n",
       "      <td>Small</td>\n",
       "      <td>1.0</td>\n",
       "      <td>No</td>\n",
       "      <td>Yes</td>\n",
       "      <td>Tote</td>\n",
       "      <td>Pink</td>\n",
       "      <td>6.175738</td>\n",
       "      <td>115.89080</td>\n",
       "    </tr>\n",
       "    <tr>\n",
       "      <th>299999</th>\n",
       "      <td>299999</td>\n",
       "      <td>Under Armour</td>\n",
       "      <td>Canvas</td>\n",
       "      <td>Small</td>\n",
       "      <td>2.0</td>\n",
       "      <td>No</td>\n",
       "      <td>Yes</td>\n",
       "      <td>Backpack</td>\n",
       "      <td>Black</td>\n",
       "      <td>18.568865</td>\n",
       "      <td>26.72762</td>\n",
       "    </tr>\n",
       "  </tbody>\n",
       "</table>\n",
       "<p>300000 rows × 11 columns</p>\n",
       "</div>"
      ],
      "text/plain": [
       "            id         Brand Material    Size  Compartments  \\\n",
       "0            0      Jansport  Leather  Medium           7.0   \n",
       "1            1      Jansport   Canvas   Small          10.0   \n",
       "2            2  Under Armour  Leather   Small           2.0   \n",
       "3            3          Nike    Nylon   Small           8.0   \n",
       "4            4        Adidas   Canvas  Medium           1.0   \n",
       "...        ...           ...      ...     ...           ...   \n",
       "299995  299995        Adidas  Leather   Small           9.0   \n",
       "299996  299996      Jansport  Leather   Large           6.0   \n",
       "299997  299997          Puma   Canvas   Large           9.0   \n",
       "299998  299998        Adidas    Nylon   Small           1.0   \n",
       "299999  299999  Under Armour   Canvas   Small           2.0   \n",
       "\n",
       "       Laptop Compartment Waterproof      Style  Color  Weight Capacity (kg)  \\\n",
       "0                     Yes         No       Tote  Black             11.611723   \n",
       "1                     Yes        Yes  Messenger  Green             27.078537   \n",
       "2                     Yes         No  Messenger    Red             16.643760   \n",
       "3                     Yes         No  Messenger  Green             12.937220   \n",
       "4                     Yes        Yes  Messenger  Green             17.749338   \n",
       "...                   ...        ...        ...    ...                   ...   \n",
       "299995                 No         No       Tote   Blue             12.730812   \n",
       "299996                 No        Yes       Tote   Blue             26.633182   \n",
       "299997                Yes        Yes   Backpack   Pink             11.898250   \n",
       "299998                 No        Yes       Tote   Pink              6.175738   \n",
       "299999                 No        Yes   Backpack  Black             18.568865   \n",
       "\n",
       "            Price  \n",
       "0       112.15875  \n",
       "1        68.88056  \n",
       "2        39.17320  \n",
       "3        80.60793  \n",
       "4        86.02312  \n",
       "...           ...  \n",
       "299995  129.99749  \n",
       "299996   19.85819  \n",
       "299997  111.41364  \n",
       "299998  115.89080  \n",
       "299999   26.72762  \n",
       "\n",
       "[300000 rows x 11 columns]"
      ]
     },
     "execution_count": 6,
     "metadata": {},
     "output_type": "execute_result"
    }
   ],
   "source": [
    "data_train = pd.read_csv('data/train.csv')\n",
    "data_train"
   ]
  },
  {
   "cell_type": "markdown",
   "metadata": {},
   "source": [
    "Поскольку таргет в тестовой части нам неизвестен, выделим часть трейновой части для валидации созданных моделей"
   ]
  },
  {
   "cell_type": "code",
   "execution_count": 7,
   "metadata": {},
   "outputs": [],
   "source": [
    "X = data_train.drop('Price', axis=1)\n",
    "y = data_train['Price']\n",
    "\n",
    "X_train, X_val, y_train, y_val = train_test_split(X, y, test_size=0.25, random_state=8)"
   ]
  },
  {
   "cell_type": "markdown",
   "metadata": {},
   "source": [
    "Пропуски в данных"
   ]
  },
  {
   "cell_type": "code",
   "execution_count": 8,
   "metadata": {},
   "outputs": [
    {
     "data": {
      "text/plain": [
       "Brand                   7294\n",
       "Material                6268\n",
       "Size                    4914\n",
       "Compartments               0\n",
       "Laptop Compartment      5561\n",
       "Waterproof              5215\n",
       "Style                   5913\n",
       "Color                   7514\n",
       "Weight Capacity (kg)     111\n",
       "dtype: int64"
      ]
     },
     "execution_count": 8,
     "metadata": {},
     "output_type": "execute_result"
    }
   ],
   "source": [
    "# Сразу удалим признак id как не несущий полезной информации\n",
    "X_train = X_train.drop('id', axis=1)\n",
    "X_val = X_val.drop('id', axis=1)\n",
    "\n",
    "X_train.isna().sum()"
   ]
  },
  {
   "cell_type": "code",
   "execution_count": 9,
   "metadata": {},
   "outputs": [
    {
     "data": {
      "text/plain": [
       "Brand                   2411\n",
       "Material                2079\n",
       "Size                    1681\n",
       "Compartments               0\n",
       "Laptop Compartment      1883\n",
       "Waterproof              1835\n",
       "Style                   2057\n",
       "Color                   2436\n",
       "Weight Capacity (kg)      27\n",
       "dtype: int64"
      ]
     },
     "execution_count": 9,
     "metadata": {},
     "output_type": "execute_result"
    }
   ],
   "source": [
    "X_val.isna().sum()"
   ]
  },
  {
   "cell_type": "code",
   "execution_count": 10,
   "metadata": {},
   "outputs": [
    {
     "data": {
      "text/html": [
       "<div>\n",
       "<style scoped>\n",
       "    .dataframe tbody tr th:only-of-type {\n",
       "        vertical-align: middle;\n",
       "    }\n",
       "\n",
       "    .dataframe tbody tr th {\n",
       "        vertical-align: top;\n",
       "    }\n",
       "\n",
       "    .dataframe thead th {\n",
       "        text-align: right;\n",
       "    }\n",
       "</style>\n",
       "<table border=\"1\" class=\"dataframe\">\n",
       "  <thead>\n",
       "    <tr style=\"text-align: right;\">\n",
       "      <th></th>\n",
       "      <th>Brand</th>\n",
       "      <th>Material</th>\n",
       "      <th>Size</th>\n",
       "      <th>Laptop Compartment</th>\n",
       "      <th>Waterproof</th>\n",
       "      <th>Style</th>\n",
       "      <th>Color</th>\n",
       "    </tr>\n",
       "  </thead>\n",
       "  <tbody>\n",
       "    <tr>\n",
       "      <th>count</th>\n",
       "      <td>217706</td>\n",
       "      <td>218732</td>\n",
       "      <td>220086</td>\n",
       "      <td>219439</td>\n",
       "      <td>219785</td>\n",
       "      <td>219087</td>\n",
       "      <td>217486</td>\n",
       "    </tr>\n",
       "    <tr>\n",
       "      <th>unique</th>\n",
       "      <td>5</td>\n",
       "      <td>4</td>\n",
       "      <td>3</td>\n",
       "      <td>2</td>\n",
       "      <td>2</td>\n",
       "      <td>3</td>\n",
       "      <td>6</td>\n",
       "    </tr>\n",
       "    <tr>\n",
       "      <th>top</th>\n",
       "      <td>Adidas</td>\n",
       "      <td>Polyester</td>\n",
       "      <td>Medium</td>\n",
       "      <td>Yes</td>\n",
       "      <td>Yes</td>\n",
       "      <td>Messenger</td>\n",
       "      <td>Pink</td>\n",
       "    </tr>\n",
       "    <tr>\n",
       "      <th>freq</th>\n",
       "      <td>45200</td>\n",
       "      <td>59720</td>\n",
       "      <td>76552</td>\n",
       "      <td>111344</td>\n",
       "      <td>111100</td>\n",
       "      <td>75040</td>\n",
       "      <td>38813</td>\n",
       "    </tr>\n",
       "  </tbody>\n",
       "</table>\n",
       "</div>"
      ],
      "text/plain": [
       "         Brand   Material    Size Laptop Compartment Waterproof      Style  \\\n",
       "count   217706     218732  220086             219439     219785     219087   \n",
       "unique       5          4       3                  2          2          3   \n",
       "top     Adidas  Polyester  Medium                Yes        Yes  Messenger   \n",
       "freq     45200      59720   76552             111344     111100      75040   \n",
       "\n",
       "         Color  \n",
       "count   217486  \n",
       "unique       6  \n",
       "top       Pink  \n",
       "freq     38813  "
      ]
     },
     "execution_count": 10,
     "metadata": {},
     "output_type": "execute_result"
    }
   ],
   "source": [
    "X_train.describe(include='object')"
   ]
  },
  {
   "cell_type": "code",
   "execution_count": 11,
   "metadata": {},
   "outputs": [
    {
     "data": {
      "text/html": [
       "<div>\n",
       "<style scoped>\n",
       "    .dataframe tbody tr th:only-of-type {\n",
       "        vertical-align: middle;\n",
       "    }\n",
       "\n",
       "    .dataframe tbody tr th {\n",
       "        vertical-align: top;\n",
       "    }\n",
       "\n",
       "    .dataframe thead th {\n",
       "        text-align: right;\n",
       "    }\n",
       "</style>\n",
       "<table border=\"1\" class=\"dataframe\">\n",
       "  <thead>\n",
       "    <tr style=\"text-align: right;\">\n",
       "      <th></th>\n",
       "      <th>Compartments</th>\n",
       "      <th>Weight Capacity (kg)</th>\n",
       "    </tr>\n",
       "  </thead>\n",
       "  <tbody>\n",
       "    <tr>\n",
       "      <th>count</th>\n",
       "      <td>225000.000000</td>\n",
       "      <td>224889.000000</td>\n",
       "    </tr>\n",
       "    <tr>\n",
       "      <th>mean</th>\n",
       "      <td>5.442538</td>\n",
       "      <td>18.040247</td>\n",
       "    </tr>\n",
       "    <tr>\n",
       "      <th>std</th>\n",
       "      <td>2.891775</td>\n",
       "      <td>6.972472</td>\n",
       "    </tr>\n",
       "    <tr>\n",
       "      <th>min</th>\n",
       "      <td>1.000000</td>\n",
       "      <td>5.000000</td>\n",
       "    </tr>\n",
       "    <tr>\n",
       "      <th>25%</th>\n",
       "      <td>3.000000</td>\n",
       "      <td>12.099788</td>\n",
       "    </tr>\n",
       "    <tr>\n",
       "      <th>50%</th>\n",
       "      <td>5.000000</td>\n",
       "      <td>18.077288</td>\n",
       "    </tr>\n",
       "    <tr>\n",
       "      <th>75%</th>\n",
       "      <td>8.000000</td>\n",
       "      <td>24.038977</td>\n",
       "    </tr>\n",
       "    <tr>\n",
       "      <th>max</th>\n",
       "      <td>10.000000</td>\n",
       "      <td>30.000000</td>\n",
       "    </tr>\n",
       "  </tbody>\n",
       "</table>\n",
       "</div>"
      ],
      "text/plain": [
       "        Compartments  Weight Capacity (kg)\n",
       "count  225000.000000         224889.000000\n",
       "mean        5.442538             18.040247\n",
       "std         2.891775              6.972472\n",
       "min         1.000000              5.000000\n",
       "25%         3.000000             12.099788\n",
       "50%         5.000000             18.077288\n",
       "75%         8.000000             24.038977\n",
       "max        10.000000             30.000000"
      ]
     },
     "execution_count": 11,
     "metadata": {},
     "output_type": "execute_result"
    }
   ],
   "source": [
    "X_train.describe()"
   ]
  },
  {
   "cell_type": "code",
   "execution_count": 12,
   "metadata": {},
   "outputs": [],
   "source": [
    "# Заменим пропущенные данные в категориальных признаках на `no info`\n",
    "categorical_cols = X_train.select_dtypes('object').columns.to_list()\n",
    "X_train[categorical_cols] = X_train[categorical_cols].fillna('no info')\n",
    "X_val[categorical_cols] = X_val[categorical_cols].fillna('no info')\n",
    "\n",
    "# Заменим пропущенные данные в числовых признаках на медиану\n",
    "numerical_cols = X_train.select_dtypes([int, float]).columns.to_list()\n",
    "median = X_train['Weight Capacity (kg)'].median()\n",
    "\n",
    "X_train['Weight Capacity (kg)'] = X_train['Weight Capacity (kg)'].fillna(median)\n",
    "X_val['Weight Capacity (kg)'] = X_val['Weight Capacity (kg)'].fillna(median)"
   ]
  },
  {
   "cell_type": "markdown",
   "metadata": {},
   "source": [
    "Выбросы"
   ]
  },
  {
   "cell_type": "code",
   "execution_count": 13,
   "metadata": {},
   "outputs": [
    {
     "data": {
      "text/plain": [
       "<Axes: xlabel='Weight Capacity (kg)', ylabel='Count'>"
      ]
     },
     "execution_count": 13,
     "metadata": {},
     "output_type": "execute_result"
    },
    {
     "data": {
      "image/png": "[encoded data removed]",
      "text/plain": [
       "<Figure size 1500x600 with 2 Axes>"
      ]
     },
     "metadata": {},
     "output_type": "display_data"
    }
   ],
   "source": [
    "fig, axes = plt.subplots(ncols=2, nrows=1, figsize=(15, 6))\n",
    "sns.histplot(data=X_train, x='Compartments',ax=axes[0])\n",
    "sns.histplot(data=X_train, x='Weight Capacity (kg)',ax=axes[1])"
   ]
  },
  {
   "cell_type": "markdown",
   "metadata": {},
   "source": [
    "Корреляции"
   ]
  },
  {
   "cell_type": "code",
   "execution_count": 32,
   "metadata": {},
   "outputs": [
    {
     "ename": "KeyError",
     "evalue": "'target'",
     "output_type": "error",
     "traceback": [
      "\u001b[0;31m---------------------------------------------------------------------------\u001b[0m",
      "\u001b[0;31mKeyError\u001b[0m                                  Traceback (most recent call last)",
      "File \u001b[0;32m~/DS&ML/kaggle/.venv/lib/python3.12/site-packages/pandas/core/indexes/base.py:3805\u001b[0m, in \u001b[0;36mIndex.get_loc\u001b[0;34m(self, key)\u001b[0m\n\u001b[1;32m   3804\u001b[0m \u001b[38;5;28;01mtry\u001b[39;00m:\n\u001b[0;32m-> 3805\u001b[0m     \u001b[38;5;28;01mreturn\u001b[39;00m \u001b[38;5;28;43mself\u001b[39;49m\u001b[38;5;241;43m.\u001b[39;49m\u001b[43m_engine\u001b[49m\u001b[38;5;241;43m.\u001b[39;49m\u001b[43mget_loc\u001b[49m\u001b[43m(\u001b[49m\u001b[43mcasted_key\u001b[49m\u001b[43m)\u001b[49m\n\u001b[1;32m   3806\u001b[0m \u001b[38;5;28;01mexcept\u001b[39;00m \u001b[38;5;167;01mKeyError\u001b[39;00m \u001b[38;5;28;01mas\u001b[39;00m err:\n",
      "File \u001b[0;32mindex.pyx:167\u001b[0m, in \u001b[0;36mpandas._libs.index.IndexEngine.get_loc\u001b[0;34m()\u001b[0m\n",
      "File \u001b[0;32mindex.pyx:196\u001b[0m, in \u001b[0;36mpandas._libs.index.IndexEngine.get_loc\u001b[0;34m()\u001b[0m\n",
      "File \u001b[0;32mpandas/_libs/hashtable_class_helper.pxi:7081\u001b[0m, in \u001b[0;36mpandas._libs.hashtable.PyObjectHashTable.get_item\u001b[0;34m()\u001b[0m\n",
      "File \u001b[0;32mpandas/_libs/hashtable_class_helper.pxi:7089\u001b[0m, in \u001b[0;36mpandas._libs.hashtable.PyObjectHashTable.get_item\u001b[0;34m()\u001b[0m\n",
      "\u001b[0;31mKeyError\u001b[0m: 'target'",
      "\nThe above exception was the direct cause of the following exception:\n",
      "\u001b[0;31mKeyError\u001b[0m                                  Traceback (most recent call last)",
      "Cell \u001b[0;32mIn[32], line 1\u001b[0m\n\u001b[0;32m----> 1\u001b[0m pd\u001b[38;5;241m.\u001b[39mcrosstab(X_train[\u001b[38;5;124m'\u001b[39m\u001b[38;5;124mBrand\u001b[39m\u001b[38;5;124m'\u001b[39m], \u001b[43mX_train\u001b[49m\u001b[43m[\u001b[49m\u001b[38;5;124;43m'\u001b[39;49m\u001b[38;5;124;43mtarget\u001b[39;49m\u001b[38;5;124;43m'\u001b[39;49m\u001b[43m]\u001b[49m)\n",
      "File \u001b[0;32m~/DS&ML/kaggle/.venv/lib/python3.12/site-packages/pandas/core/frame.py:4102\u001b[0m, in \u001b[0;36mDataFrame.__getitem__\u001b[0;34m(self, key)\u001b[0m\n\u001b[1;32m   4100\u001b[0m \u001b[38;5;28;01mif\u001b[39;00m \u001b[38;5;28mself\u001b[39m\u001b[38;5;241m.\u001b[39mcolumns\u001b[38;5;241m.\u001b[39mnlevels \u001b[38;5;241m>\u001b[39m \u001b[38;5;241m1\u001b[39m:\n\u001b[1;32m   4101\u001b[0m     \u001b[38;5;28;01mreturn\u001b[39;00m \u001b[38;5;28mself\u001b[39m\u001b[38;5;241m.\u001b[39m_getitem_multilevel(key)\n\u001b[0;32m-> 4102\u001b[0m indexer \u001b[38;5;241m=\u001b[39m \u001b[38;5;28;43mself\u001b[39;49m\u001b[38;5;241;43m.\u001b[39;49m\u001b[43mcolumns\u001b[49m\u001b[38;5;241;43m.\u001b[39;49m\u001b[43mget_loc\u001b[49m\u001b[43m(\u001b[49m\u001b[43mkey\u001b[49m\u001b[43m)\u001b[49m\n\u001b[1;32m   4103\u001b[0m \u001b[38;5;28;01mif\u001b[39;00m is_integer(indexer):\n\u001b[1;32m   4104\u001b[0m     indexer \u001b[38;5;241m=\u001b[39m [indexer]\n",
      "File \u001b[0;32m~/DS&ML/kaggle/.venv/lib/python3.12/site-packages/pandas/core/indexes/base.py:3812\u001b[0m, in \u001b[0;36mIndex.get_loc\u001b[0;34m(self, key)\u001b[0m\n\u001b[1;32m   3807\u001b[0m     \u001b[38;5;28;01mif\u001b[39;00m \u001b[38;5;28misinstance\u001b[39m(casted_key, \u001b[38;5;28mslice\u001b[39m) \u001b[38;5;129;01mor\u001b[39;00m (\n\u001b[1;32m   3808\u001b[0m         \u001b[38;5;28misinstance\u001b[39m(casted_key, abc\u001b[38;5;241m.\u001b[39mIterable)\n\u001b[1;32m   3809\u001b[0m         \u001b[38;5;129;01mand\u001b[39;00m \u001b[38;5;28many\u001b[39m(\u001b[38;5;28misinstance\u001b[39m(x, \u001b[38;5;28mslice\u001b[39m) \u001b[38;5;28;01mfor\u001b[39;00m x \u001b[38;5;129;01min\u001b[39;00m casted_key)\n\u001b[1;32m   3810\u001b[0m     ):\n\u001b[1;32m   3811\u001b[0m         \u001b[38;5;28;01mraise\u001b[39;00m InvalidIndexError(key)\n\u001b[0;32m-> 3812\u001b[0m     \u001b[38;5;28;01mraise\u001b[39;00m \u001b[38;5;167;01mKeyError\u001b[39;00m(key) \u001b[38;5;28;01mfrom\u001b[39;00m\u001b[38;5;250m \u001b[39m\u001b[38;5;21;01merr\u001b[39;00m\n\u001b[1;32m   3813\u001b[0m \u001b[38;5;28;01mexcept\u001b[39;00m \u001b[38;5;167;01mTypeError\u001b[39;00m:\n\u001b[1;32m   3814\u001b[0m     \u001b[38;5;66;03m# If we have a listlike key, _check_indexing_error will raise\u001b[39;00m\n\u001b[1;32m   3815\u001b[0m     \u001b[38;5;66;03m#  InvalidIndexError. Otherwise we fall through and re-raise\u001b[39;00m\n\u001b[1;32m   3816\u001b[0m     \u001b[38;5;66;03m#  the TypeError.\u001b[39;00m\n\u001b[1;32m   3817\u001b[0m     \u001b[38;5;28mself\u001b[39m\u001b[38;5;241m.\u001b[39m_check_indexing_error(key)\n",
      "\u001b[0;31mKeyError\u001b[0m: 'target'"
     ]
    }
   ],
   "source": [
    "pd.crosstab(X_train['Brand'], X_train['target'])"
   ]
  },
  {
   "cell_type": "markdown",
   "metadata": {},
   "source": [
    "### Baseline"
   ]
  },
  {
   "cell_type": "code",
   "execution_count": 75,
   "metadata": {},
   "outputs": [
    {
     "data": {
      "text/html": [
       "<div>\n",
       "<style scoped>\n",
       "    .dataframe tbody tr th:only-of-type {\n",
       "        vertical-align: middle;\n",
       "    }\n",
       "\n",
       "    .dataframe tbody tr th {\n",
       "        vertical-align: top;\n",
       "    }\n",
       "\n",
       "    .dataframe thead th {\n",
       "        text-align: right;\n",
       "    }\n",
       "</style>\n",
       "<table border=\"1\" class=\"dataframe\">\n",
       "  <thead>\n",
       "    <tr style=\"text-align: right;\">\n",
       "      <th></th>\n",
       "      <th>Brand</th>\n",
       "      <th>Material</th>\n",
       "      <th>Size</th>\n",
       "      <th>Compartments</th>\n",
       "      <th>Laptop Compartment</th>\n",
       "      <th>Waterproof</th>\n",
       "      <th>Style</th>\n",
       "      <th>Color</th>\n",
       "      <th>Weight Capacity (kg)</th>\n",
       "    </tr>\n",
       "  </thead>\n",
       "  <tbody>\n",
       "    <tr>\n",
       "      <th>257342</th>\n",
       "      <td>Adidas</td>\n",
       "      <td>Canvas</td>\n",
       "      <td>Large</td>\n",
       "      <td>7.0</td>\n",
       "      <td>No</td>\n",
       "      <td>Yes</td>\n",
       "      <td>Messenger</td>\n",
       "      <td>Pink</td>\n",
       "      <td>8.667768</td>\n",
       "    </tr>\n",
       "    <tr>\n",
       "      <th>1230</th>\n",
       "      <td>Adidas</td>\n",
       "      <td>Leather</td>\n",
       "      <td>no info</td>\n",
       "      <td>8.0</td>\n",
       "      <td>No</td>\n",
       "      <td>Yes</td>\n",
       "      <td>Messenger</td>\n",
       "      <td>Blue</td>\n",
       "      <td>15.085735</td>\n",
       "    </tr>\n",
       "    <tr>\n",
       "      <th>126968</th>\n",
       "      <td>Under Armour</td>\n",
       "      <td>Canvas</td>\n",
       "      <td>Small</td>\n",
       "      <td>2.0</td>\n",
       "      <td>No</td>\n",
       "      <td>Yes</td>\n",
       "      <td>Tote</td>\n",
       "      <td>Gray</td>\n",
       "      <td>24.907312</td>\n",
       "    </tr>\n",
       "    <tr>\n",
       "      <th>136997</th>\n",
       "      <td>Nike</td>\n",
       "      <td>Nylon</td>\n",
       "      <td>Medium</td>\n",
       "      <td>1.0</td>\n",
       "      <td>Yes</td>\n",
       "      <td>Yes</td>\n",
       "      <td>Backpack</td>\n",
       "      <td>Green</td>\n",
       "      <td>17.132315</td>\n",
       "    </tr>\n",
       "    <tr>\n",
       "      <th>162570</th>\n",
       "      <td>Jansport</td>\n",
       "      <td>Polyester</td>\n",
       "      <td>Small</td>\n",
       "      <td>2.0</td>\n",
       "      <td>Yes</td>\n",
       "      <td>No</td>\n",
       "      <td>Backpack</td>\n",
       "      <td>Red</td>\n",
       "      <td>29.558365</td>\n",
       "    </tr>\n",
       "  </tbody>\n",
       "</table>\n",
       "</div>"
      ],
      "text/plain": [
       "               Brand   Material     Size  Compartments Laptop Compartment  \\\n",
       "257342        Adidas     Canvas    Large           7.0                 No   \n",
       "1230          Adidas    Leather  no info           8.0                 No   \n",
       "126968  Under Armour     Canvas    Small           2.0                 No   \n",
       "136997          Nike      Nylon   Medium           1.0                Yes   \n",
       "162570      Jansport  Polyester    Small           2.0                Yes   \n",
       "\n",
       "       Waterproof      Style  Color  Weight Capacity (kg)  \n",
       "257342        Yes  Messenger   Pink              8.667768  \n",
       "1230          Yes  Messenger   Blue             15.085735  \n",
       "126968        Yes       Tote   Gray             24.907312  \n",
       "136997        Yes   Backpack  Green             17.132315  \n",
       "162570         No   Backpack    Red             29.558365  "
      ]
     },
     "execution_count": 75,
     "metadata": {},
     "output_type": "execute_result"
    }
   ],
   "source": [
    "X_train.head()"
   ]
  },
  {
   "cell_type": "code",
   "execution_count": 13,
   "metadata": {},
   "outputs": [
    {
     "name": "stdout",
     "output_type": "stream",
     "text": [
      "RMSE: 38.974\n",
      "Target mean value: 81.436\n",
      "{'regressor__alpha': 100.0}\n"
     ]
    }
   ],
   "source": [
    "# Преобразование числовых столбцов\n",
    "numerical_transformer = Pipeline(steps=[\n",
    "    ('scaler', MinMaxScaler())  # Масштабирование непрерывных числовых признаков\n",
    "])\n",
    "\n",
    "categorical_transformer = Pipeline(steps=[\n",
    "    ('encoder', TargetEncoder())  # Масштабирование категориальных признаков\n",
    "])\n",
    "\n",
    "# Объединяем преобразования с помощью ColumnTransformer\n",
    "preprocessor = ColumnTransformer(\n",
    "    transformers=[\n",
    "        ('num', numerical_transformer, numerical_cols),\n",
    "        ('cat', categorical_transformer, categorical_cols)\n",
    "        ])\n",
    "\n",
    "pipeline = Pipeline(steps=[\n",
    "    ('preprocessor', preprocessor),\n",
    "    ('regressor', Ridge())\n",
    "])\n",
    "\n",
    "param_grid = {'regressor__alpha': np.logspace(-1, 2, 10)}\n",
    "\n",
    "# Настройка GridSearchCV\n",
    "gs_lr = GridSearchCV(\n",
    "    estimator=pipeline,\n",
    "    param_grid=param_grid,\n",
    "    cv=5,\n",
    "    scoring='neg_root_mean_squared_error'\n",
    ")\n",
    "\n",
    "# Обучаем модели с различными гиперпараметрами\n",
    "gs_lr.fit(X_train, y_train)\n",
    "\n",
    "\n",
    "y_pred = gs_lr.predict(X_val)\n",
    "rmse = root_mean_squared_error(y_val, y_pred)\n",
    "print(f'RMSE: {rmse:.3f}')\n",
    "print(f'Target mean value: {y_val.mean():.3f}')\n",
    "print(gs_lr.best_params_)"
   ]
  },
  {
   "cell_type": "markdown",
   "metadata": {},
   "source": [
    "### Catboost"
   ]
  },
  {
   "cell_type": "code",
   "execution_count": 33,
   "metadata": {},
   "outputs": [
    {
     "name": "stdout",
     "output_type": "stream",
     "text": [
      "RMSE: 38.988\n",
      "Target mean value: 81.436\n"
     ]
    }
   ],
   "source": [
    "cb = CatBoostRegressor(cat_features=categorical_cols, logging_level='Silent')\n",
    "\n",
    "cb.fit(X_train, y_train)\n",
    "y_pred = cb.predict(X_val)\n",
    "rmse = root_mean_squared_error(y_val, y_pred)\n",
    "print(f'RMSE: {rmse:.3f}')\n",
    "print(f'Target mean value: {y_val.mean():.3f}')"
   ]
  },
  {
   "cell_type": "markdown",
   "metadata": {},
   "source": [
    "Для дальнейших экспериментов, уменьшим размер X_train и X_val до 10000"
   ]
  },
  {
   "cell_type": "code",
   "execution_count": 81,
   "metadata": {},
   "outputs": [],
   "source": [
    "X_train = X_train.iloc[:10000, :]\n",
    "y_train = y_train.iloc[:10000]\n",
    "X_val = X_val.iloc[:10000, :]\n",
    "y_val = y_val.iloc[:10000]"
   ]
  },
  {
   "cell_type": "markdown",
   "metadata": {},
   "source": [
    "### CatBoost + Optuna"
   ]
  },
  {
   "cell_type": "code",
   "execution_count": 46,
   "metadata": {},
   "outputs": [],
   "source": [
    "def objective(trial):\n",
    "    # Определяем гиперпараметры для оптимизации\n",
    "    iterations = trial.suggest_int('iterations', 100, 1000)\n",
    "    learning_rate = trial.suggest_float('learning_rate', 0.01, 1, log=True)\n",
    "    depth = trial.suggest_int('depth', 4, 10)\n",
    "    l2_leaf_reg = trial.suggest_float('l2_leaf_reg', 0.01, 1, log=True)\n",
    "\n",
    "\n",
    "    # Создаем модель\n",
    "    model = CatBoostRegressor(cat_features=categorical_cols,\n",
    "                              iterations=iterations,\n",
    "                              depth=depth,\n",
    "                              learning_rate=learning_rate,\n",
    "                              l2_leaf_reg=l2_leaf_reg,\n",
    "                              logging_level='Silent',\n",
    "                              random_state=42)\n",
    "\n",
    "\n",
    "    model.fit(X_train, y_train)\n",
    "    y_pred = model.predict(X_val)\n",
    "    rmse = root_mean_squared_error(y_val, y_pred)\n",
    "\n",
    "    return rmse"
   ]
  },
  {
   "cell_type": "code",
   "execution_count": 47,
   "metadata": {},
   "outputs": [
    {
     "name": "stderr",
     "output_type": "stream",
     "text": [
      "[I 2025-02-27 19:57:12,033] A new study created in memory with name: no-name-daedc55d-1104-4844-ae2f-0c3ab20e6edf\n",
      "[I 2025-02-27 19:57:56,002] Trial 0 finished with value: 38.96332137282515 and parameters: {'iterations': 937, 'learning_rate': 0.013778228414203115, 'depth': 7, 'l2_leaf_reg': 0.45649356996024626}. Best is trial 0 with value: 38.96332137282515.\n",
      "[I 2025-02-27 19:58:09,777] Trial 1 finished with value: 38.96236252249356 and parameters: {'iterations': 396, 'learning_rate': 0.04251588028170125, 'depth': 5, 'l2_leaf_reg': 0.3238551899342637}. Best is trial 1 with value: 38.96236252249356.\n",
      "[I 2025-02-27 19:58:23,650] Trial 2 finished with value: 38.964128852501204 and parameters: {'iterations': 302, 'learning_rate': 0.043195545430583356, 'depth': 7, 'l2_leaf_reg': 0.8971691262326857}. Best is trial 1 with value: 38.96236252249356.\n",
      "[I 2025-02-27 19:59:03,440] Trial 3 finished with value: 38.98940693966607 and parameters: {'iterations': 519, 'learning_rate': 0.10386654943326806, 'depth': 9, 'l2_leaf_reg': 0.9792334060221178}. Best is trial 1 with value: 38.96236252249356.\n",
      "[I 2025-02-27 19:59:31,331] Trial 4 finished with value: 39.13485597465874 and parameters: {'iterations': 338, 'learning_rate': 0.2846565926245769, 'depth': 9, 'l2_leaf_reg': 0.0879825780560056}. Best is trial 1 with value: 38.96236252249356.\n",
      "[I 2025-02-27 20:00:13,944] Trial 5 finished with value: 39.348321918820865 and parameters: {'iterations': 767, 'learning_rate': 0.566768750481221, 'depth': 7, 'l2_leaf_reg': 0.023013197044404462}. Best is trial 1 with value: 38.96236252249356.\n",
      "[I 2025-02-27 20:00:27,578] Trial 6 finished with value: 39.039636346670335 and parameters: {'iterations': 462, 'learning_rate': 0.9315047211428621, 'depth': 4, 'l2_leaf_reg': 0.03673691725665525}. Best is trial 1 with value: 38.96236252249356.\n",
      "[I 2025-02-27 20:00:31,141] Trial 7 finished with value: 39.069901969285816 and parameters: {'iterations': 117, 'learning_rate': 0.41509741978731624, 'depth': 9, 'l2_leaf_reg': 0.7401113959898276}. Best is trial 1 with value: 38.96236252249356.\n",
      "[I 2025-02-27 20:00:38,684] Trial 8 finished with value: 38.96517788197828 and parameters: {'iterations': 242, 'learning_rate': 0.3014997690230807, 'depth': 4, 'l2_leaf_reg': 0.03290812217299144}. Best is trial 1 with value: 38.96236252249356.\n",
      "[I 2025-02-27 20:01:25,774] Trial 9 finished with value: 39.03630154154864 and parameters: {'iterations': 970, 'learning_rate': 0.27403312670049723, 'depth': 6, 'l2_leaf_reg': 0.05303671172407837}. Best is trial 1 with value: 38.96236252249356.\n",
      "[I 2025-02-27 20:01:47,524] Trial 10 finished with value: 38.96679543814803 and parameters: {'iterations': 693, 'learning_rate': 0.010911136114188636, 'depth': 5, 'l2_leaf_reg': 0.2496110988335373}. Best is trial 1 with value: 38.96236252249356.\n",
      "[I 2025-02-27 20:02:25,835] Trial 11 finished with value: 38.9644003547217 and parameters: {'iterations': 973, 'learning_rate': 0.013797132478273987, 'depth': 6, 'l2_leaf_reg': 0.26117492958764066}. Best is trial 1 with value: 38.96236252249356.\n",
      "[I 2025-02-27 20:03:06,977] Trial 12 finished with value: 38.960996696296874 and parameters: {'iterations': 703, 'learning_rate': 0.030328610726296015, 'depth': 8, 'l2_leaf_reg': 0.2676333783744218}. Best is trial 12 with value: 38.960996696296874.\n",
      "[I 2025-02-27 20:04:11,682] Trial 13 finished with value: 38.977001620366195 and parameters: {'iterations': 671, 'learning_rate': 0.03979349575729774, 'depth': 10, 'l2_leaf_reg': 0.17995300583832316}. Best is trial 12 with value: 38.960996696296874.\n",
      "[I 2025-02-27 20:04:45,472] Trial 14 finished with value: 38.960536694045075 and parameters: {'iterations': 596, 'learning_rate': 0.037796266692823294, 'depth': 8, 'l2_leaf_reg': 0.1509757402229739}. Best is trial 14 with value: 38.960536694045075.\n",
      "[I 2025-02-27 20:05:23,981] Trial 15 finished with value: 38.98619995766806 and parameters: {'iterations': 609, 'learning_rate': 0.09946706524623097, 'depth': 8, 'l2_leaf_reg': 0.010726256284713234}. Best is trial 14 with value: 38.960536694045075.\n",
      "[I 2025-02-27 20:06:06,819] Trial 16 finished with value: 38.96112054381187 and parameters: {'iterations': 795, 'learning_rate': 0.02388763374962433, 'depth': 8, 'l2_leaf_reg': 0.11596514211017364}. Best is trial 14 with value: 38.960536694045075.\n",
      "[I 2025-02-27 20:07:05,225] Trial 17 finished with value: 38.99936183351555 and parameters: {'iterations': 846, 'learning_rate': 0.09999864135913276, 'depth': 8, 'l2_leaf_reg': 0.13245491927230188}. Best is trial 14 with value: 38.960536694045075.\n",
      "[I 2025-02-27 20:07:58,704] Trial 18 finished with value: 38.964422872677055 and parameters: {'iterations': 565, 'learning_rate': 0.022334789628869627, 'depth': 10, 'l2_leaf_reg': 0.07939180269323844}. Best is trial 14 with value: 38.960536694045075.\n",
      "[I 2025-02-27 20:08:47,364] Trial 19 finished with value: 38.98242935251534 and parameters: {'iterations': 676, 'learning_rate': 0.08010078884306995, 'depth': 8, 'l2_leaf_reg': 0.5168522698804077}. Best is trial 14 with value: 38.960536694045075.\n",
      "[I 2025-02-27 20:09:30,410] Trial 20 finished with value: 38.96355689622769 and parameters: {'iterations': 862, 'learning_rate': 0.061399465827205874, 'depth': 6, 'l2_leaf_reg': 0.14574906977086613}. Best is trial 14 with value: 38.960536694045075.\n",
      "[I 2025-02-27 20:10:18,481] Trial 21 finished with value: 38.96149150983961 and parameters: {'iterations': 781, 'learning_rate': 0.027583419772618988, 'depth': 8, 'l2_leaf_reg': 0.18731988490955626}. Best is trial 14 with value: 38.960536694045075.\n",
      "[I 2025-02-27 20:11:10,538] Trial 22 finished with value: 38.965050502781835 and parameters: {'iterations': 750, 'learning_rate': 0.02516733503228679, 'depth': 9, 'l2_leaf_reg': 0.10654721202450111}. Best is trial 14 with value: 38.960536694045075.\n",
      "[I 2025-02-27 20:11:41,672] Trial 23 finished with value: 38.96373785594933 and parameters: {'iterations': 598, 'learning_rate': 0.018566609487903014, 'depth': 8, 'l2_leaf_reg': 0.06615192163600915}. Best is trial 14 with value: 38.960536694045075.\n",
      "[I 2025-02-27 20:12:34,074] Trial 24 finished with value: 38.99707168542366 and parameters: {'iterations': 850, 'learning_rate': 0.15062851068626157, 'depth': 7, 'l2_leaf_reg': 0.3708760463005296}. Best is trial 14 with value: 38.960536694045075.\n",
      "[I 2025-02-27 20:13:09,934] Trial 25 finished with value: 38.96405782021837 and parameters: {'iterations': 480, 'learning_rate': 0.03443314191812678, 'depth': 9, 'l2_leaf_reg': 0.2179898103894936}. Best is trial 14 with value: 38.960536694045075.\n",
      "[I 2025-02-27 20:13:55,880] Trial 26 finished with value: 38.97464978736332 and parameters: {'iterations': 643, 'learning_rate': 0.06706117600116035, 'depth': 8, 'l2_leaf_reg': 0.11726788158081256}. Best is trial 14 with value: 38.960536694045075.\n",
      "[I 2025-02-27 20:14:36,382] Trial 27 finished with value: 38.96295356792261 and parameters: {'iterations': 728, 'learning_rate': 0.019328068130640468, 'depth': 7, 'l2_leaf_reg': 0.5906561865790214}. Best is trial 14 with value: 38.960536694045075.\n",
      "[I 2025-02-27 20:16:06,246] Trial 28 finished with value: 38.9711420745635 and parameters: {'iterations': 799, 'learning_rate': 0.030448739543737325, 'depth': 10, 'l2_leaf_reg': 0.05702345385417806}. Best is trial 14 with value: 38.960536694045075.\n",
      "[I 2025-02-27 20:16:52,685] Trial 29 finished with value: 38.96501840863076 and parameters: {'iterations': 865, 'learning_rate': 0.01435124900537828, 'depth': 7, 'l2_leaf_reg': 0.3133184869523533}. Best is trial 14 with value: 38.960536694045075.\n"
     ]
    }
   ],
   "source": [
    "# Создаем Bayesian Optimization\n",
    "study_cb = optuna.create_study()\n",
    "\n",
    "# Запускаем Bayesian Optimization\n",
    "study_cb.optimize(objective, n_trials=30)\n",
    "\n",
    "best_params_cb = study_cb.best_params"
   ]
  },
  {
   "cell_type": "code",
   "execution_count": 48,
   "metadata": {},
   "outputs": [
    {
     "name": "stdout",
     "output_type": "stream",
     "text": [
      "CatBoost + optuna RMSE: 38.96453\n"
     ]
    }
   ],
   "source": [
    "# Создаем модель с лучшими гиперпараметрами\n",
    "best_cb_model = CatBoostRegressor(cat_features=categorical_cols,\n",
    "                                  logging_level='Silent',\n",
    "                                  **best_params_cb)\n",
    "\n",
    "best_cb_model.fit(X_train, y_train)\n",
    "\n",
    "# joblib.dump(best_cb_model,'best_cb_model.joblib')\n",
    "\n",
    "y_pred = best_cb_model.predict(X_val)\n",
    "rmse_optuna = root_mean_squared_error(y_val, y_pred)\n",
    "\n",
    "print(f'CatBoost + optuna RMSE: {rmse_optuna:.5f}')"
   ]
  },
  {
   "cell_type": "markdown",
   "metadata": {},
   "source": [
    "### RandomForest"
   ]
  },
  {
   "cell_type": "code",
   "execution_count": 17,
   "metadata": {},
   "outputs": [],
   "source": [
    "# Кодируем категориальные признаки при помощи OneHotEncoder\n",
    "ohe_enc = OneHotEncoder(handle_unknown='ignore', drop='first', sparse_output=False).set_output(transform='pandas')\n",
    "\n",
    "X_train_encoded = ohe_enc.fit_transform(X_train[categorical_cols])\n",
    "X_val_encoded = ohe_enc.transform(X_val[categorical_cols])"
   ]
  },
  {
   "cell_type": "code",
   "execution_count": 51,
   "metadata": {},
   "outputs": [
    {
     "name": "stderr",
     "output_type": "stream",
     "text": [
      "[I 2025-02-27 20:24:42,192] A new study created in memory with name: no-name-116ff855-f2f7-4824-9792-5f2192a8cb1a\n",
      "[I 2025-02-27 20:24:45,137] Trial 0 finished with value: 38.98192978511063 and parameters: {'n_estimators': 67, 'max_depth': 6, 'min_samples_split': 14, 'min_samples_leaf': 12, 'max_features': 'log2'}. Best is trial 0 with value: 38.98192978511063.\n",
      "[I 2025-02-27 20:25:04,104] Trial 1 finished with value: 38.98022891745636 and parameters: {'n_estimators': 128, 'max_depth': 5, 'min_samples_split': 10, 'min_samples_leaf': 4, 'max_features': None}. Best is trial 1 with value: 38.98022891745636.\n",
      "[I 2025-02-27 20:25:15,978] Trial 2 finished with value: 39.00017987677866 and parameters: {'n_estimators': 55, 'max_depth': 10, 'min_samples_split': 13, 'min_samples_leaf': 15, 'max_features': None}. Best is trial 1 with value: 38.98022891745636.\n",
      "[I 2025-02-27 20:25:20,047] Trial 3 finished with value: 38.980217650290626 and parameters: {'n_estimators': 84, 'max_depth': 6, 'min_samples_split': 8, 'min_samples_leaf': 15, 'max_features': 'sqrt'}. Best is trial 3 with value: 38.980217650290626.\n",
      "[I 2025-02-27 20:25:21,384] Trial 4 finished with value: 38.992290836670236 and parameters: {'n_estimators': 21, 'max_depth': 10, 'min_samples_split': 5, 'min_samples_leaf': 3, 'max_features': 'sqrt'}. Best is trial 3 with value: 38.980217650290626.\n",
      "[I 2025-02-27 20:25:27,650] Trial 5 finished with value: 38.97903813902635 and parameters: {'n_estimators': 110, 'max_depth': 8, 'min_samples_split': 17, 'min_samples_leaf': 1, 'max_features': 'sqrt'}. Best is trial 5 with value: 38.97903813902635.\n",
      "[I 2025-02-27 20:25:33,989] Trial 6 finished with value: 38.98055919772286 and parameters: {'n_estimators': 122, 'max_depth': 8, 'min_samples_split': 8, 'min_samples_leaf': 17, 'max_features': 'log2'}. Best is trial 5 with value: 38.97903813902635.\n",
      "[I 2025-02-27 20:25:41,473] Trial 7 finished with value: 38.982953617451365 and parameters: {'n_estimators': 119, 'max_depth': 9, 'min_samples_split': 9, 'min_samples_leaf': 20, 'max_features': 'sqrt'}. Best is trial 5 with value: 38.97903813902635.\n",
      "[I 2025-02-27 20:25:45,216] Trial 8 finished with value: 38.98428727882062 and parameters: {'n_estimators': 64, 'max_depth': 10, 'min_samples_split': 12, 'min_samples_leaf': 20, 'max_features': 'log2'}. Best is trial 5 with value: 38.97903813902635.\n",
      "[I 2025-02-27 20:25:49,698] Trial 9 finished with value: 38.98221983291897 and parameters: {'n_estimators': 71, 'max_depth': 10, 'min_samples_split': 16, 'min_samples_leaf': 10, 'max_features': 'log2'}. Best is trial 5 with value: 38.97903813902635.\n",
      "[I 2025-02-27 20:26:00,549] Trial 10 finished with value: 38.98147844535156 and parameters: {'n_estimators': 178, 'max_depth': 8, 'min_samples_split': 18, 'min_samples_leaf': 7, 'max_features': 'sqrt'}. Best is trial 5 with value: 38.97903813902635.\n",
      "[I 2025-02-27 20:26:08,908] Trial 11 finished with value: 38.980374738436915 and parameters: {'n_estimators': 159, 'max_depth': 6, 'min_samples_split': 20, 'min_samples_leaf': 12, 'max_features': 'sqrt'}. Best is trial 5 with value: 38.97903813902635.\n",
      "[I 2025-02-27 20:26:14,718] Trial 12 finished with value: 38.97891391162572 and parameters: {'n_estimators': 92, 'max_depth': 7, 'min_samples_split': 5, 'min_samples_leaf': 1, 'max_features': 'sqrt'}. Best is trial 12 with value: 38.97891391162572.\n",
      "[I 2025-02-27 20:26:21,435] Trial 13 finished with value: 38.97955558171622 and parameters: {'n_estimators': 101, 'max_depth': 7, 'min_samples_split': 2, 'min_samples_leaf': 1, 'max_features': 'sqrt'}. Best is trial 12 with value: 38.97891391162572.\n",
      "[I 2025-02-27 20:26:29,531] Trial 14 finished with value: 38.98011990861024 and parameters: {'n_estimators': 144, 'max_depth': 7, 'min_samples_split': 4, 'min_samples_leaf': 5, 'max_features': 'sqrt'}. Best is trial 12 with value: 38.97891391162572.\n",
      "[I 2025-02-27 20:26:35,236] Trial 15 finished with value: 38.98024147778345 and parameters: {'n_estimators': 97, 'max_depth': 8, 'min_samples_split': 16, 'min_samples_leaf': 7, 'max_features': 'sqrt'}. Best is trial 12 with value: 38.97891391162572.\n",
      "[I 2025-02-27 20:26:42,904] Trial 16 finished with value: 38.99501666027243 and parameters: {'n_estimators': 37, 'max_depth': 9, 'min_samples_split': 5, 'min_samples_leaf': 1, 'max_features': None}. Best is trial 12 with value: 38.97891391162572.\n",
      "[I 2025-02-27 20:26:52,933] Trial 17 finished with value: 38.979588528359066 and parameters: {'n_estimators': 188, 'max_depth': 7, 'min_samples_split': 20, 'min_samples_leaf': 7, 'max_features': 'sqrt'}. Best is trial 12 with value: 38.97891391162572.\n",
      "[I 2025-02-27 20:27:01,914] Trial 18 finished with value: 38.98054809233428 and parameters: {'n_estimators': 147, 'max_depth': 9, 'min_samples_split': 15, 'min_samples_leaf': 3, 'max_features': 'sqrt'}. Best is trial 12 with value: 38.97891391162572.\n",
      "[I 2025-02-27 20:27:15,622] Trial 19 finished with value: 38.98113940117605 and parameters: {'n_estimators': 95, 'max_depth': 5, 'min_samples_split': 7, 'min_samples_leaf': 1, 'max_features': None}. Best is trial 12 with value: 38.97891391162572.\n",
      "[I 2025-02-27 20:27:20,418] Trial 20 finished with value: 38.97877594836328 and parameters: {'n_estimators': 84, 'max_depth': 7, 'min_samples_split': 11, 'min_samples_leaf': 9, 'max_features': 'sqrt'}. Best is trial 20 with value: 38.97877594836328.\n",
      "[I 2025-02-27 20:27:24,753] Trial 21 finished with value: 38.97827336148949 and parameters: {'n_estimators': 82, 'max_depth': 7, 'min_samples_split': 11, 'min_samples_leaf': 9, 'max_features': 'sqrt'}. Best is trial 21 with value: 38.97827336148949.\n",
      "[I 2025-02-27 20:27:29,144] Trial 22 finished with value: 38.97995657549889 and parameters: {'n_estimators': 84, 'max_depth': 7, 'min_samples_split': 12, 'min_samples_leaf': 9, 'max_features': 'sqrt'}. Best is trial 21 with value: 38.97827336148949.\n",
      "[I 2025-02-27 20:27:31,361] Trial 23 finished with value: 38.980131274891086 and parameters: {'n_estimators': 46, 'max_depth': 6, 'min_samples_split': 10, 'min_samples_leaf': 13, 'max_features': 'sqrt'}. Best is trial 21 with value: 38.97827336148949.\n",
      "[I 2025-02-27 20:27:35,675] Trial 24 finished with value: 38.97972804408119 and parameters: {'n_estimators': 81, 'max_depth': 7, 'min_samples_split': 6, 'min_samples_leaf': 9, 'max_features': 'sqrt'}. Best is trial 21 with value: 38.97827336148949.\n",
      "[I 2025-02-27 20:27:40,915] Trial 25 finished with value: 38.98076435584987 and parameters: {'n_estimators': 108, 'max_depth': 6, 'min_samples_split': 2, 'min_samples_leaf': 5, 'max_features': 'sqrt'}. Best is trial 21 with value: 38.97827336148949.\n",
      "[I 2025-02-27 20:27:45,223] Trial 26 finished with value: 38.97874526405476 and parameters: {'n_estimators': 82, 'max_depth': 7, 'min_samples_split': 11, 'min_samples_leaf': 8, 'max_features': 'sqrt'}. Best is trial 21 with value: 38.97827336148949.\n",
      "[I 2025-02-27 20:27:47,491] Trial 27 finished with value: 38.98148591576669 and parameters: {'n_estimators': 40, 'max_depth': 8, 'min_samples_split': 11, 'min_samples_leaf': 8, 'max_features': 'sqrt'}. Best is trial 21 with value: 38.97827336148949.\n",
      "[I 2025-02-27 20:28:01,247] Trial 28 finished with value: 38.98158965164345 and parameters: {'n_estimators': 72, 'max_depth': 6, 'min_samples_split': 13, 'min_samples_leaf': 11, 'max_features': None}. Best is trial 21 with value: 38.97827336148949.\n",
      "[I 2025-02-27 20:28:04,197] Trial 29 finished with value: 38.98357879647695 and parameters: {'n_estimators': 59, 'max_depth': 5, 'min_samples_split': 14, 'min_samples_leaf': 11, 'max_features': 'log2'}. Best is trial 21 with value: 38.97827336148949.\n"
     ]
    }
   ],
   "source": [
    "def objective_rf(trial):\n",
    "    # Определите гиперпараметры для подбора\n",
    "    params = {\n",
    "        'n_estimators': trial.suggest_int('n_estimators', 20, 200),\n",
    "        'max_depth': trial.suggest_int('max_depth', 5, 10),\n",
    "        'min_samples_split': trial.suggest_int('min_samples_split', 2, 20),\n",
    "        'min_samples_leaf': trial.suggest_int('min_samples_leaf', 1, 20),\n",
    "        'max_features': trial.suggest_categorical('max_features', [None, 'sqrt', 'log2'])\n",
    "    }\n",
    "\n",
    "    model = RandomForestRegressor(criterion='squared_error', **params)\n",
    "    model.fit(X_train_encoded, y_train)\n",
    "\n",
    "    y_pred = model.predict(X_val_encoded)\n",
    "    rmse = root_mean_squared_error(y_val, y_pred)\n",
    "\n",
    "    return rmse\n",
    "\n",
    "# Запуск оптимизации\n",
    "study_rf = optuna.create_study()\n",
    "study_rf.optimize(objective_rf, n_trials=30)\n",
    "best_params_rf = study_rf.best_params"
   ]
  },
  {
   "cell_type": "code",
   "execution_count": 52,
   "metadata": {},
   "outputs": [
    {
     "name": "stdout",
     "output_type": "stream",
     "text": [
      "RandomForest + optuna RMSE: 38.98027\n"
     ]
    }
   ],
   "source": [
    "best_rf_model = RandomForestRegressor(**best_params_rf)\n",
    "best_rf_model.fit(X_train_encoded, y_train)\n",
    "\n",
    "# joblib.dump(best_rf_model,'best_rf_model.joblib')\n",
    "\n",
    "y_pred = best_rf_model.predict(X_val_encoded)\n",
    "rmse_optuna = root_mean_squared_error(y_val, y_pred)\n",
    "\n",
    "print(f'RandomForest + optuna RMSE: {rmse_optuna:.5f}')"
   ]
  },
  {
   "cell_type": "markdown",
   "metadata": {},
   "source": [
    "### XGBoost"
   ]
  },
  {
   "cell_type": "code",
   "execution_count": 21,
   "metadata": {},
   "outputs": [
    {
     "name": "stderr",
     "output_type": "stream",
     "text": [
      "[I 2025-02-27 12:21:00,219] A new study created in memory with name: no-name-b066d040-4a5a-41a0-98fc-4edb2ab163cd\n",
      "[I 2025-02-27 12:21:03,651] Trial 0 finished with value: 39.560161873281594 and parameters: {'max_depth': 10, 'learning_rate': 0.09897165793735672, 'n_estimators': 289, 'gamma': 0.08381727933238212, 'subsample': 0.7013907149452192, 'colsample_bytree': 0.8373323600102804, 'reg_alpha': 1.692184201634086, 'reg_lambda': 0.212906139257693, 'min_child_weight': 9}. Best is trial 0 with value: 39.560161873281594.\n",
      "[I 2025-02-27 12:21:04,318] Trial 1 finished with value: 38.983070572549636 and parameters: {'max_depth': 1, 'learning_rate': 0.024963005517077513, 'n_estimators': 239, 'gamma': 2.6622973603511433, 'subsample': 0.7621858301123543, 'colsample_bytree': 0.882280218546126, 'reg_alpha': 8.994736375798752, 'reg_lambda': 2.2598564995063404, 'min_child_weight': 5}. Best is trial 1 with value: 38.983070572549636.\n",
      "[I 2025-02-27 12:21:05,194] Trial 2 finished with value: 38.98000100319315 and parameters: {'max_depth': 2, 'learning_rate': 0.09451393341160833, 'n_estimators': 267, 'gamma': 8.12406125868309, 'subsample': 0.6591097471856227, 'colsample_bytree': 0.6803485349392839, 'reg_alpha': 0.6469722186452794, 'reg_lambda': 0.20109636349295254, 'min_child_weight': 5}. Best is trial 2 with value: 38.98000100319315.\n",
      "[I 2025-02-27 12:21:06,530] Trial 3 finished with value: 39.024594252452644 and parameters: {'max_depth': 10, 'learning_rate': 0.027445302525401973, 'n_estimators': 106, 'gamma': 0.023819032947131048, 'subsample': 0.70324002492129, 'colsample_bytree': 0.7104067124210143, 'reg_alpha': 0.074963640007504, 'reg_lambda': 0.014735598801749326, 'min_child_weight': 5}. Best is trial 2 with value: 38.98000100319315.\n",
      "[I 2025-02-27 12:21:08,359] Trial 4 finished with value: 39.59229183942472 and parameters: {'max_depth': 7, 'learning_rate': 0.4705703836995529, 'n_estimators': 255, 'gamma': 4.9166320206935525, 'subsample': 0.5332729829759186, 'colsample_bytree': 0.8700391556009441, 'reg_alpha': 0.014122903107020059, 'reg_lambda': 7.281256048437789, 'min_child_weight': 5}. Best is trial 2 with value: 38.98000100319315.\n",
      "[I 2025-02-27 12:21:11,177] Trial 5 finished with value: 39.058534723478495 and parameters: {'max_depth': 9, 'learning_rate': 0.028736696367240435, 'n_estimators': 311, 'gamma': 4.765328752071903, 'subsample': 0.9329188904634287, 'colsample_bytree': 0.5387565218220185, 'reg_alpha': 6.546694492624727, 'reg_lambda': 0.520224615366047, 'min_child_weight': 2}. Best is trial 2 with value: 38.98000100319315.\n",
      "[I 2025-02-27 12:21:11,661] Trial 6 finished with value: 39.07452936610576 and parameters: {'max_depth': 5, 'learning_rate': 0.3366716371521982, 'n_estimators': 84, 'gamma': 0.6038799279251417, 'subsample': 0.5518906860950646, 'colsample_bytree': 0.8045418792765813, 'reg_alpha': 0.01070292163507864, 'reg_lambda': 0.12416966399308971, 'min_child_weight': 2}. Best is trial 2 with value: 38.98000100319315.\n",
      "[I 2025-02-27 12:21:12,534] Trial 7 finished with value: 38.978681985770095 and parameters: {'max_depth': 2, 'learning_rate': 0.0950979696370929, 'n_estimators': 275, 'gamma': 0.20217741356807253, 'subsample': 0.7266808377976793, 'colsample_bytree': 0.4667323963850349, 'reg_alpha': 0.025648222557036113, 'reg_lambda': 0.014202967816492565, 'min_child_weight': 3}. Best is trial 7 with value: 38.978681985770095.\n",
      "[I 2025-02-27 12:21:16,456] Trial 8 finished with value: 40.160519771823715 and parameters: {'max_depth': 10, 'learning_rate': 0.7089132525210213, 'n_estimators': 349, 'gamma': 0.3679603963908961, 'subsample': 0.9068867355587211, 'colsample_bytree': 0.5978133805287826, 'reg_alpha': 0.10572823890821807, 'reg_lambda': 2.7282066610071984, 'min_child_weight': 7}. Best is trial 7 with value: 38.978681985770095.\n",
      "[I 2025-02-27 12:21:17,228] Trial 9 finished with value: 38.98359560436299 and parameters: {'max_depth': 7, 'learning_rate': 0.034734199642110164, 'n_estimators': 114, 'gamma': 0.209843430314914, 'subsample': 0.6552573980230492, 'colsample_bytree': 0.37849867187328484, 'reg_alpha': 0.092967845534689, 'reg_lambda': 0.5363211558154413, 'min_child_weight': 3}. Best is trial 7 with value: 38.978681985770095.\n",
      "[I 2025-02-27 12:21:19,130] Trial 10 finished with value: 38.99330528489046 and parameters: {'max_depth': 3, 'learning_rate': 0.18855497542056832, 'n_estimators': 459, 'gamma': 0.014087838110858545, 'subsample': 0.8224954774827942, 'colsample_bytree': 0.21910615102773529, 'reg_alpha': 0.03268942195751556, 'reg_lambda': 0.024749648862404768, 'min_child_weight': 1}. Best is trial 7 with value: 38.978681985770095.\n",
      "[I 2025-02-27 12:21:19,667] Trial 11 finished with value: 38.980933739066444 and parameters: {'max_depth': 1, 'learning_rate': 0.0844069628283317, 'n_estimators': 196, 'gamma': 1.0818213385555806, 'subsample': 0.619990966581172, 'colsample_bytree': 0.44981571471760207, 'reg_alpha': 0.8448630582669837, 'reg_lambda': 0.055013208405447274, 'min_child_weight': 7}. Best is trial 7 with value: 38.978681985770095.\n",
      "[I 2025-02-27 12:21:21,271] Trial 12 finished with value: 38.97759049534376 and parameters: {'max_depth': 3, 'learning_rate': 0.01040500937973525, 'n_estimators': 398, 'gamma': 0.11657460074734935, 'subsample': 0.8180829125669062, 'colsample_bytree': 0.6784842325246639, 'reg_alpha': 0.603393449850388, 'reg_lambda': 0.05569861980724416, 'min_child_weight': 4}. Best is trial 12 with value: 38.97759049534376.\n",
      "[I 2025-02-27 12:21:23,165] Trial 13 finished with value: 38.97880205701238 and parameters: {'max_depth': 4, 'learning_rate': 0.011024879859928307, 'n_estimators': 404, 'gamma': 0.04500962998619598, 'subsample': 0.828897804421987, 'colsample_bytree': 0.39595396480145195, 'reg_alpha': 0.185686510533571, 'reg_lambda': 0.010495876076782975, 'min_child_weight': 3}. Best is trial 12 with value: 38.97759049534376.\n",
      "[I 2025-02-27 12:21:24,851] Trial 14 finished with value: 38.976887870062036 and parameters: {'max_depth': 3, 'learning_rate': 0.011464440997496873, 'n_estimators': 483, 'gamma': 0.1205096407753052, 'subsample': 0.8148415734617384, 'colsample_bytree': 0.9950832371674796, 'reg_alpha': 0.41356953808799324, 'reg_lambda': 0.049318702049209275, 'min_child_weight': 3}. Best is trial 14 with value: 38.976887870062036.\n",
      "[I 2025-02-27 12:21:26,858] Trial 15 finished with value: 38.97903779620979 and parameters: {'max_depth': 4, 'learning_rate': 0.010314925310992328, 'n_estimators': 471, 'gamma': 0.08137765191210679, 'subsample': 0.8587546880505174, 'colsample_bytree': 0.9775579067808341, 'reg_alpha': 1.9776826394654907, 'reg_lambda': 0.0557141321608355, 'min_child_weight': 10}. Best is trial 14 with value: 38.976887870062036.\n",
      "[I 2025-02-27 12:21:29,087] Trial 16 finished with value: 39.00378628736066 and parameters: {'max_depth': 6, 'learning_rate': 0.017250760617530635, 'n_estimators': 404, 'gamma': 0.11353373502846051, 'subsample': 0.9710677217716126, 'colsample_bytree': 0.9855511907492285, 'reg_alpha': 0.37898686102540613, 'reg_lambda': 0.05673274598817324, 'min_child_weight': 1}. Best is trial 14 with value: 38.976887870062036.\n",
      "[I 2025-02-27 12:21:30,871] Trial 17 finished with value: 38.98495500177706 and parameters: {'max_depth': 3, 'learning_rate': 0.044969650935004, 'n_estimators': 491, 'gamma': 0.03929861923578837, 'subsample': 0.7795436653099259, 'colsample_bytree': 0.7528657793134518, 'reg_alpha': 3.200335683254933, 'reg_lambda': 0.03422866247641959, 'min_child_weight': 7}. Best is trial 14 with value: 38.976887870062036.\n",
      "[I 2025-02-27 12:21:32,560] Trial 18 finished with value: 38.98157554982317 and parameters: {'max_depth': 4, 'learning_rate': 0.052784714261954274, 'n_estimators': 406, 'gamma': 0.9633751126626471, 'subsample': 0.8795539866739365, 'colsample_bytree': 0.27573014128714973, 'reg_alpha': 0.3680571584965803, 'reg_lambda': 0.1040212341773902, 'min_child_weight': 4}. Best is trial 14 with value: 38.976887870062036.\n",
      "[I 2025-02-27 12:21:34,454] Trial 19 finished with value: 38.98361737447998 and parameters: {'max_depth': 5, 'learning_rate': 0.019511621672179437, 'n_estimators': 355, 'gamma': 0.1732035025424731, 'subsample': 0.7845127800990328, 'colsample_bytree': 0.6367822073790121, 'reg_alpha': 0.8389974288822255, 'reg_lambda': 0.42495513973375265, 'min_child_weight': 4}. Best is trial 14 with value: 38.976887870062036.\n",
      "[I 2025-02-27 12:21:35,976] Trial 20 finished with value: 38.977500499218124 and parameters: {'max_depth': 3, 'learning_rate': 0.014849345607905625, 'n_estimators': 436, 'gamma': 0.01100018683930351, 'subsample': 0.9955537449461631, 'colsample_bytree': 0.8950036284892514, 'reg_alpha': 0.196346477909383, 'reg_lambda': 1.0197498960630829, 'min_child_weight': 6}. Best is trial 14 with value: 38.976887870062036.\n",
      "[I 2025-02-27 12:21:37,458] Trial 21 finished with value: 38.97726861150788 and parameters: {'max_depth': 3, 'learning_rate': 0.01454640401823245, 'n_estimators': 440, 'gamma': 0.018456779485435084, 'subsample': 0.9916557790508809, 'colsample_bytree': 0.9135039218099023, 'reg_alpha': 0.1971531201500365, 'reg_lambda': 1.1550991351776805, 'min_child_weight': 6}. Best is trial 14 with value: 38.976887870062036.\n",
      "[I 2025-02-27 12:21:38,717] Trial 22 finished with value: 38.9782828790673 and parameters: {'max_depth': 2, 'learning_rate': 0.015818297414073798, 'n_estimators': 440, 'gamma': 0.0116906354627939, 'subsample': 0.98959605149821, 'colsample_bytree': 0.9361929101985583, 'reg_alpha': 0.20925992546632746, 'reg_lambda': 1.1945296887241375, 'min_child_weight': 8}. Best is trial 14 with value: 38.976887870062036.\n",
      "[I 2025-02-27 12:21:40,466] Trial 23 finished with value: 38.977890180117164 and parameters: {'max_depth': 3, 'learning_rate': 0.01485410495532316, 'n_estimators': 499, 'gamma': 0.0253560919640833, 'subsample': 0.943536576277077, 'colsample_bytree': 0.9115120035131217, 'reg_alpha': 0.1882863231730028, 'reg_lambda': 1.0737891189503963, 'min_child_weight': 6}. Best is trial 14 with value: 38.976887870062036.\n",
      "[I 2025-02-27 12:21:43,195] Trial 24 finished with value: 39.05336170930953 and parameters: {'max_depth': 6, 'learning_rate': 0.05158616631870856, 'n_estimators': 437, 'gamma': 0.010057640988485179, 'subsample': 0.999597218086159, 'colsample_bytree': 0.776701313096192, 'reg_alpha': 0.05685540185853866, 'reg_lambda': 0.9806944436448402, 'min_child_weight': 6}. Best is trial 14 with value: 38.976887870062036.\n",
      "[I 2025-02-27 12:21:44,567] Trial 25 finished with value: 38.981479910602 and parameters: {'max_depth': 4, 'learning_rate': 0.02121333580864614, 'n_estimators': 349, 'gamma': 0.0222328243474668, 'subsample': 0.9072437538684897, 'colsample_bytree': 0.9892061820385217, 'reg_alpha': 0.12987285780720279, 'reg_lambda': 4.100661288401615, 'min_child_weight': 8}. Best is trial 14 with value: 38.976887870062036.\n",
      "[I 2025-02-27 12:21:45,843] Trial 26 finished with value: 38.984090294483636 and parameters: {'max_depth': 2, 'learning_rate': 0.190656909642461, 'n_estimators': 437, 'gamma': 0.04977157496261266, 'subsample': 0.9651820932339638, 'colsample_bytree': 0.9305379853528961, 'reg_alpha': 0.2687750061512913, 'reg_lambda': 1.710949359063288, 'min_child_weight': 6}. Best is trial 14 with value: 38.976887870062036.\n",
      "[I 2025-02-27 12:21:46,805] Trial 27 finished with value: 38.98400829027406 and parameters: {'max_depth': 1, 'learning_rate': 0.014382151491608796, 'n_estimators': 377, 'gamma': 0.0174653182899609, 'subsample': 0.9095260725398029, 'colsample_bytree': 0.8302328683694682, 'reg_alpha': 0.053778771567842776, 'reg_lambda': 4.681806640351617, 'min_child_weight': 7}. Best is trial 14 with value: 38.976887870062036.\n",
      "[I 2025-02-27 12:21:47,796] Trial 28 finished with value: 38.98737342461611 and parameters: {'max_depth': 5, 'learning_rate': 0.03924295977452171, 'n_estimators': 193, 'gamma': 0.037897156559921916, 'subsample': 0.9488850731634736, 'colsample_bytree': 0.739113132645391, 'reg_alpha': 0.5061122580885162, 'reg_lambda': 0.7555714577173888, 'min_child_weight': 8}. Best is trial 14 with value: 38.976887870062036.\n",
      "[I 2025-02-27 12:21:49,054] Trial 29 finished with value: 38.98384216537998 and parameters: {'max_depth': 3, 'learning_rate': 0.0644146533157388, 'n_estimators': 322, 'gamma': 0.0723404334772929, 'subsample': 0.8628647918292058, 'colsample_bytree': 0.8261907690618752, 'reg_alpha': 1.5375886927238038, 'reg_lambda': 0.2816672538606526, 'min_child_weight': 9}. Best is trial 14 with value: 38.976887870062036.\n",
      "[I 2025-02-27 12:21:50,544] Trial 30 finished with value: 38.97831194061276 and parameters: {'max_depth': 2, 'learning_rate': 0.01333188272262003, 'n_estimators': 469, 'gamma': 0.3539308823882964, 'subsample': 0.5714069478509907, 'colsample_bytree': 0.8582868031361325, 'reg_alpha': 0.142404439030727, 'reg_lambda': 0.16639054085446536, 'min_child_weight': 6}. Best is trial 14 with value: 38.976887870062036.\n",
      "[I 2025-02-27 12:21:52,059] Trial 31 finished with value: 38.977128392297345 and parameters: {'max_depth': 3, 'learning_rate': 0.013264697025783072, 'n_estimators': 384, 'gamma': 0.1364933409494308, 'subsample': 0.8183539168270997, 'colsample_bytree': 0.9353696321230748, 'reg_alpha': 1.0295392743855984, 'reg_lambda': 0.02702493296829661, 'min_child_weight': 4}. Best is trial 14 with value: 38.976887870062036.\n",
      "[I 2025-02-27 12:21:54,033] Trial 32 finished with value: 38.9843865145868 and parameters: {'max_depth': 4, 'learning_rate': 0.0245634742107922, 'n_estimators': 432, 'gamma': 0.06297385674978574, 'subsample': 0.7428128556893225, 'colsample_bytree': 0.9185979338162596, 'reg_alpha': 1.4761161715989677, 'reg_lambda': 0.025610403194656906, 'min_child_weight': 4}. Best is trial 14 with value: 38.976887870062036.\n",
      "[I 2025-02-27 12:21:55,382] Trial 33 finished with value: 38.97837850517113 and parameters: {'max_depth': 3, 'learning_rate': 0.019959425211785484, 'n_estimators': 371, 'gamma': 0.032774436246767485, 'subsample': 0.881838161503123, 'colsample_bytree': 0.9979226544544927, 'reg_alpha': 0.31259153487497365, 'reg_lambda': 1.5152789473772132, 'min_child_weight': 2}. Best is trial 14 with value: 38.976887870062036.\n",
      "[I 2025-02-27 12:21:56,555] Trial 34 finished with value: 38.98045997014029 and parameters: {'max_depth': 1, 'learning_rate': 0.030714554355980837, 'n_estimators': 467, 'gamma': 0.12529905327331178, 'subsample': 0.7928262292698642, 'colsample_bytree': 0.8860317829655747, 'reg_alpha': 1.0386417992187413, 'reg_lambda': 0.31744650825190485, 'min_child_weight': 5}. Best is trial 14 with value: 38.976887870062036.\n",
      "[I 2025-02-27 12:21:57,932] Trial 35 finished with value: 38.97805485387343 and parameters: {'max_depth': 2, 'learning_rate': 0.012275773177169508, 'n_estimators': 421, 'gamma': 0.017980672715035444, 'subsample': 0.722297226812729, 'colsample_bytree': 0.9304448067168406, 'reg_alpha': 2.561788758948471, 'reg_lambda': 2.7358636580207443, 'min_child_weight': 5}. Best is trial 14 with value: 38.976887870062036.\n",
      "[I 2025-02-27 12:22:00,073] Trial 36 finished with value: 38.98553281585309 and parameters: {'max_depth': 4, 'learning_rate': 0.02304363157317238, 'n_estimators': 500, 'gamma': 0.5471237561832244, 'subsample': 0.6669465869448288, 'colsample_bytree': 0.8738391032052613, 'reg_alpha': 4.679951580099793, 'reg_lambda': 0.03594064092249824, 'min_child_weight': 3}. Best is trial 14 with value: 38.976887870062036.\n",
      "[I 2025-02-27 12:22:01,628] Trial 37 finished with value: 38.98321944387467 and parameters: {'max_depth': 5, 'learning_rate': 0.016581531756385652, 'n_estimators': 320, 'gamma': 2.1805821739690887, 'subsample': 0.5052325511697568, 'colsample_bytree': 0.7928612381324097, 'reg_alpha': 0.5225856197269058, 'reg_lambda': 0.13579670738387267, 'min_child_weight': 5}. Best is trial 14 with value: 38.976887870062036.\n",
      "[I 2025-02-27 12:22:02,609] Trial 38 finished with value: 38.98141224049888 and parameters: {'max_depth': 1, 'learning_rate': 0.027429084190031736, 'n_estimators': 381, 'gamma': 0.2581162638056725, 'subsample': 0.8467074355119969, 'colsample_bytree': 0.9521796703587319, 'reg_alpha': 1.1092655105233304, 'reg_lambda': 0.09641212417246935, 'min_child_weight': 4}. Best is trial 14 with value: 38.976887870062036.\n",
      "[I 2025-02-27 12:22:06,003] Trial 39 finished with value: 39.033227351585914 and parameters: {'max_depth': 8, 'learning_rate': 0.013383273478955321, 'n_estimators': 453, 'gamma': 0.028419090375596697, 'subsample': 0.9220192762154521, 'colsample_bytree': 0.8895480099099705, 'reg_alpha': 9.920932386271195, 'reg_lambda': 8.113558721267747, 'min_child_weight': 2}. Best is trial 14 with value: 38.976887870062036.\n",
      "[I 2025-02-27 12:22:06,925] Trial 40 finished with value: 38.9823010880796 and parameters: {'max_depth': 2, 'learning_rate': 0.12681942424052392, 'n_estimators': 301, 'gamma': 9.82234152606683, 'subsample': 0.9767976398587365, 'colsample_bytree': 0.8407091558992895, 'reg_alpha': 0.25105950804124383, 'reg_lambda': 0.7780266773478883, 'min_child_weight': 6}. Best is trial 14 with value: 38.976887870062036.\n",
      "[I 2025-02-27 12:22:08,376] Trial 41 finished with value: 38.977246316912854 and parameters: {'max_depth': 3, 'learning_rate': 0.011588085781594846, 'n_estimators': 407, 'gamma': 0.13306508423803545, 'subsample': 0.8018125708122787, 'colsample_bytree': 0.6872768220148819, 'reg_alpha': 0.61533879175643, 'reg_lambda': 0.07972361139497075, 'min_child_weight': 4}. Best is trial 14 with value: 38.976887870062036.\n",
      "[I 2025-02-27 12:22:10,068] Trial 42 finished with value: 38.977101713750216 and parameters: {'max_depth': 3, 'learning_rate': 0.010173409032650604, 'n_estimators': 478, 'gamma': 0.1384618542850103, 'subsample': 0.8029087345646928, 'colsample_bytree': 0.5770466958021178, 'reg_alpha': 0.3991956636455245, 'reg_lambda': 0.034443920441204416, 'min_child_weight': 3}. Best is trial 14 with value: 38.976887870062036.\n",
      "[I 2025-02-27 12:22:11,793] Trial 43 finished with value: 38.97722982548021 and parameters: {'max_depth': 3, 'learning_rate': 0.010728283257606167, 'n_estimators': 476, 'gamma': 0.15581979120498274, 'subsample': 0.7563576639217706, 'colsample_bytree': 0.5610271872814054, 'reg_alpha': 0.4188914083954548, 'reg_lambda': 0.017354981099336055, 'min_child_weight': 3}. Best is trial 14 with value: 38.976887870062036.\n",
      "[I 2025-02-27 12:22:13,239] Trial 44 finished with value: 38.97895520966576 and parameters: {'max_depth': 2, 'learning_rate': 0.010274160046276013, 'n_estimators': 487, 'gamma': 0.13438720739355997, 'subsample': 0.7615750913289766, 'colsample_bytree': 0.5440127112898197, 'reg_alpha': 0.5318000695509071, 'reg_lambda': 0.0187355014477898, 'min_child_weight': 3}. Best is trial 14 with value: 38.976887870062036.\n",
      "[I 2025-02-27 12:22:15,234] Trial 45 finished with value: 38.98243111585414 and parameters: {'max_depth': 4, 'learning_rate': 0.01945854093680453, 'n_estimators': 482, 'gamma': 0.16574986040539907, 'subsample': 0.7988594524368849, 'colsample_bytree': 0.5803654189393597, 'reg_alpha': 0.8022837454978017, 'reg_lambda': 0.010043491552172315, 'min_child_weight': 2}. Best is trial 14 with value: 38.976887870062036.\n",
      "[I 2025-02-27 12:22:16,113] Trial 46 finished with value: 38.97953379939128 and parameters: {'max_depth': 3, 'learning_rate': 0.011868659083549346, 'n_estimators': 235, 'gamma': 0.2837889586049245, 'subsample': 0.7043382348955953, 'colsample_bytree': 0.49993199076299427, 'reg_alpha': 0.3838384729341965, 'reg_lambda': 0.07736539623502348, 'min_child_weight': 3}. Best is trial 14 with value: 38.976887870062036.\n",
      "[I 2025-02-27 12:22:18,132] Trial 47 finished with value: 38.97957122233862 and parameters: {'max_depth': 5, 'learning_rate': 0.010062289759014287, 'n_estimators': 416, 'gamma': 0.09346237150672967, 'subsample': 0.8071619170085428, 'colsample_bytree': 0.6352876812575289, 'reg_alpha': 1.1574107343379236, 'reg_lambda': 0.03663234800016474, 'min_child_weight': 3}. Best is trial 14 with value: 38.976887870062036.\n",
      "[I 2025-02-27 12:22:18,360] Trial 48 finished with value: 38.98357447657095 and parameters: {'max_depth': 2, 'learning_rate': 0.03413429153488959, 'n_estimators': 54, 'gamma': 0.4898615129926699, 'subsample': 0.7496048713453245, 'colsample_bytree': 0.7075435324779882, 'reg_alpha': 0.675367191197491, 'reg_lambda': 0.01598155583121145, 'min_child_weight': 2}. Best is trial 14 with value: 38.976887870062036.\n",
      "[I 2025-02-27 12:22:20,418] Trial 49 finished with value: 39.083915435504736 and parameters: {'max_depth': 4, 'learning_rate': 0.3621007228793314, 'n_estimators': 455, 'gamma': 0.05727884366587677, 'subsample': 0.8361750229529292, 'colsample_bytree': 0.5591862412176617, 'reg_alpha': 0.45347581107480445, 'reg_lambda': 0.02463178942953583, 'min_child_weight': 4}. Best is trial 14 with value: 38.976887870062036.\n",
      "[I 2025-02-27 12:22:22,730] Trial 50 finished with value: 38.98513050513609 and parameters: {'max_depth': 6, 'learning_rate': 0.012057452884036974, 'n_estimators': 389, 'gamma': 0.2535239266135115, 'subsample': 0.7782120830059285, 'colsample_bytree': 0.6345921643278186, 'reg_alpha': 0.7251535374099235, 'reg_lambda': 0.04745661184734281, 'min_child_weight': 1}. Best is trial 14 with value: 38.976887870062036.\n",
      "[I 2025-02-27 12:22:24,425] Trial 51 finished with value: 38.97831091341678 and parameters: {'max_depth': 3, 'learning_rate': 0.01767381956384082, 'n_estimators': 477, 'gamma': 0.09505048590139978, 'subsample': 0.6834681741958197, 'colsample_bytree': 0.4699437419557138, 'reg_alpha': 0.29026472340164017, 'reg_lambda': 0.019998985477240036, 'min_child_weight': 4}. Best is trial 14 with value: 38.976887870062036.\n",
      "[I 2025-02-27 12:22:25,955] Trial 52 finished with value: 38.97740925560353 and parameters: {'max_depth': 3, 'learning_rate': 0.012334568830420146, 'n_estimators': 454, 'gamma': 0.17198046542639064, 'subsample': 0.7323220041532627, 'colsample_bytree': 0.5070892269625726, 'reg_alpha': 0.1378324083937333, 'reg_lambda': 0.07762759365950225, 'min_child_weight': 3}. Best is trial 14 with value: 38.976887870062036.\n",
      "[I 2025-02-27 12:22:27,801] Trial 53 finished with value: 39.25493155548164 and parameters: {'max_depth': 4, 'learning_rate': 0.8666350349105981, 'n_estimators': 413, 'gamma': 0.4497277536966395, 'subsample': 0.6225835348134232, 'colsample_bytree': 0.6768325301917735, 'reg_alpha': 0.3651862602561006, 'reg_lambda': 0.013088978129190987, 'min_child_weight': 5}. Best is trial 14 with value: 38.976887870062036.\n",
      "[I 2025-02-27 12:22:29,446] Trial 54 finished with value: 38.977806413444206 and parameters: {'max_depth': 3, 'learning_rate': 0.015933636387503888, 'n_estimators': 451, 'gamma': 0.2100950726163188, 'subsample': 0.8168598143622361, 'colsample_bytree': 0.9616330434775974, 'reg_alpha': 1.9772485369722645, 'reg_lambda': 0.0441524662258692, 'min_child_weight': 2}. Best is trial 14 with value: 38.976887870062036.\n",
      "[I 2025-02-27 12:22:31,372] Trial 55 finished with value: 38.978859882668495 and parameters: {'max_depth': 3, 'learning_rate': 0.022739954269308516, 'n_estimators': 477, 'gamma': 1.0019954544452931, 'subsample': 0.8821215145131345, 'colsample_bytree': 0.41170096485996877, 'reg_alpha': 0.08368804036672416, 'reg_lambda': 0.029834222182357786, 'min_child_weight': 4}. Best is trial 14 with value: 38.976887870062036.\n",
      "[I 2025-02-27 12:22:32,680] Trial 56 finished with value: 38.9783428453536 and parameters: {'max_depth': 2, 'learning_rate': 0.013416265854166267, 'n_estimators': 417, 'gamma': 0.14794792846805596, 'subsample': 0.7712351545602362, 'colsample_bytree': 0.6071482838491684, 'reg_alpha': 0.6034738721273161, 'reg_lambda': 0.07369053965817914, 'min_child_weight': 3}. Best is trial 14 with value: 38.976887870062036.\n",
      "[I 2025-02-27 12:22:34,406] Trial 57 finished with value: 38.97892257702984 and parameters: {'max_depth': 4, 'learning_rate': 0.010529807711013675, 'n_estimators': 397, 'gamma': 0.09480231238094515, 'subsample': 0.8542431574895382, 'colsample_bytree': 0.32573230040309514, 'reg_alpha': 0.22889634513386112, 'reg_lambda': 0.021345772468624513, 'min_child_weight': 5}. Best is trial 14 with value: 38.976887870062036.\n",
      "[I 2025-02-27 12:22:35,710] Trial 58 finished with value: 38.97790997892033 and parameters: {'max_depth': 3, 'learning_rate': 0.01889144688745045, 'n_estimators': 360, 'gamma': 0.7640629083902842, 'subsample': 0.7593679774512745, 'colsample_bytree': 0.5242946747276391, 'reg_alpha': 0.4343719751530769, 'reg_lambda': 0.01293602998552571, 'min_child_weight': 4}. Best is trial 14 with value: 38.976887870062036.\n",
      "[I 2025-02-27 12:22:36,611] Trial 59 finished with value: 38.984097330811686 and parameters: {'max_depth': 1, 'learning_rate': 0.015686551221509273, 'n_estimators': 341, 'gamma': 0.20974328481865145, 'subsample': 0.8059498976715717, 'colsample_bytree': 0.5871935934099984, 'reg_alpha': 0.9504073421467478, 'reg_lambda': 0.041408046065864054, 'min_child_weight': 3}. Best is trial 14 with value: 38.976887870062036.\n",
      "[I 2025-02-27 12:22:39,012] Trial 60 finished with value: 38.983750893745835 and parameters: {'max_depth': 5, 'learning_rate': 0.012183301711415137, 'n_estimators': 444, 'gamma': 0.06987755243837654, 'subsample': 0.7103861695045103, 'colsample_bytree': 0.9579354153221171, 'reg_alpha': 1.3445687339481598, 'reg_lambda': 0.2050367317125535, 'min_child_weight': 4}. Best is trial 14 with value: 38.976887870062036.\n",
      "[I 2025-02-27 12:22:40,569] Trial 61 finished with value: 38.97781031546821 and parameters: {'max_depth': 3, 'learning_rate': 0.011596449501298818, 'n_estimators': 432, 'gamma': 0.11533940544831144, 'subsample': 0.7431347979958014, 'colsample_bytree': 0.5098332295152866, 'reg_alpha': 0.1388821564407206, 'reg_lambda': 0.07220566455089643, 'min_child_weight': 3}. Best is trial 14 with value: 38.976887870062036.\n",
      "[I 2025-02-27 12:22:42,075] Trial 62 finished with value: 38.97890319820824 and parameters: {'max_depth': 2, 'learning_rate': 0.01360590886654898, 'n_estimators': 463, 'gamma': 0.18147941355118563, 'subsample': 0.7322706548535887, 'colsample_bytree': 0.4344368539575949, 'reg_alpha': 0.1623510903310844, 'reg_lambda': 0.06103885748969619, 'min_child_weight': 3}. Best is trial 14 with value: 38.976887870062036.\n",
      "[I 2025-02-27 12:22:43,843] Trial 63 finished with value: 38.977797968126254 and parameters: {'max_depth': 3, 'learning_rate': 0.010152017072657673, 'n_estimators': 487, 'gamma': 0.35476525452047125, 'subsample': 0.8339140470319315, 'colsample_bytree': 0.4865739328980659, 'reg_alpha': 0.10510091357735858, 'reg_lambda': 0.029657429607516654, 'min_child_weight': 2}. Best is trial 14 with value: 38.976887870062036.\n",
      "[I 2025-02-27 12:22:45,794] Trial 64 finished with value: 38.97964332614086 and parameters: {'max_depth': 4, 'learning_rate': 0.017739183805857036, 'n_estimators': 456, 'gamma': 0.05121726845722309, 'subsample': 0.6809598752305039, 'colsample_bytree': 0.5671405845040415, 'reg_alpha': 0.05010995445778263, 'reg_lambda': 0.13903003701760194, 'min_child_weight': 3}. Best is trial 14 with value: 38.976887870062036.\n",
      "[I 2025-02-27 12:22:47,072] Trial 65 finished with value: 38.97827873892255 and parameters: {'max_depth': 2, 'learning_rate': 0.013486378019861914, 'n_estimators': 426, 'gamma': 0.15196676774392173, 'subsample': 0.7841387756322308, 'colsample_bytree': 0.6590488409258949, 'reg_alpha': 0.3194418800802555, 'reg_lambda': 0.017441412654859823, 'min_child_weight': 4}. Best is trial 14 with value: 38.976887870062036.\n",
      "[I 2025-02-27 12:22:48,673] Trial 66 finished with value: 38.97980195422039 and parameters: {'max_depth': 3, 'learning_rate': 0.02568649495474926, 'n_estimators': 498, 'gamma': 1.4607093205932442, 'subsample': 0.8191969315537575, 'colsample_bytree': 0.602073091953196, 'reg_alpha': 0.06733788999918851, 'reg_lambda': 0.08884198925346136, 'min_child_weight': 2}. Best is trial 14 with value: 38.976887870062036.\n",
      "[I 2025-02-27 12:22:52,607] Trial 67 finished with value: 39.03615100802721 and parameters: {'max_depth': 9, 'learning_rate': 0.01525701502719851, 'n_estimators': 469, 'gamma': 4.224309565272072, 'subsample': 0.7599729883060065, 'colsample_bytree': 0.5398557578756861, 'reg_alpha': 0.2226097478304351, 'reg_lambda': 0.11339932610387357, 'min_child_weight': 3}. Best is trial 14 with value: 38.976887870062036.\n",
      "[I 2025-02-27 12:22:53,311] Trial 68 finished with value: 38.977113269008704 and parameters: {'max_depth': 4, 'learning_rate': 0.021993639820468622, 'n_estimators': 150, 'gamma': 0.07731185360215309, 'subsample': 0.6367022901868764, 'colsample_bytree': 0.7367949906282567, 'reg_alpha': 0.15870846904466285, 'reg_lambda': 0.05184728259245005, 'min_child_weight': 5}. Best is trial 14 with value: 38.976887870062036.\n",
      "[I 2025-02-27 12:22:54,085] Trial 69 finished with value: 38.97740541269621 and parameters: {'max_depth': 4, 'learning_rate': 0.020962410939502785, 'n_estimators': 151, 'gamma': 0.04086712122170789, 'subsample': 0.5795597017600018, 'colsample_bytree': 0.7319796241033459, 'reg_alpha': 0.11149772434409748, 'reg_lambda': 0.05066916577381756, 'min_child_weight': 5}. Best is trial 14 with value: 38.976887870062036.\n",
      "[I 2025-02-27 12:22:55,340] Trial 70 finished with value: 38.99294194663072 and parameters: {'max_depth': 3, 'learning_rate': 0.18124704615435183, 'n_estimators': 268, 'gamma': 0.08299974581342909, 'subsample': 0.8881795999587057, 'colsample_bytree': 0.7746844080755712, 'reg_alpha': 0.17944835088830516, 'reg_lambda': 0.02932677985837976, 'min_child_weight': 5}. Best is trial 14 with value: 38.976887870062036.\n",
      "[I 2025-02-27 12:22:55,994] Trial 71 finished with value: 38.97775713307628 and parameters: {'max_depth': 4, 'learning_rate': 0.01987023521405272, 'n_estimators': 142, 'gamma': 0.04070056851980873, 'subsample': 0.5808201675833065, 'colsample_bytree': 0.7173791039418892, 'reg_alpha': 0.100372757670719, 'reg_lambda': 0.052443012457749925, 'min_child_weight': 5}. Best is trial 14 with value: 38.976887870062036.\n",
      "[I 2025-02-27 12:22:56,677] Trial 72 finished with value: 38.97708979643935 and parameters: {'max_depth': 4, 'learning_rate': 0.022453359345070492, 'n_estimators': 145, 'gamma': 0.10927015037812043, 'subsample': 0.6194121913539323, 'colsample_bytree': 0.7361137060151173, 'reg_alpha': 0.3331216433027183, 'reg_lambda': 0.024137227122417948, 'min_child_weight': 6}. Best is trial 14 with value: 38.976887870062036.\n",
      "[I 2025-02-27 12:22:57,730] Trial 73 finished with value: 38.984725036748216 and parameters: {'max_depth': 5, 'learning_rate': 0.03129924599179741, 'n_estimators': 184, 'gamma': 0.1322226726180262, 'subsample': 0.6262841990997976, 'colsample_bytree': 0.6934534717046505, 'reg_alpha': 0.3051701329851512, 'reg_lambda': 0.03880858572980193, 'min_child_weight': 7}. Best is trial 14 with value: 38.976887870062036.\n",
      "[I 2025-02-27 12:22:58,365] Trial 74 finished with value: 38.97997441663378 and parameters: {'max_depth': 4, 'learning_rate': 0.014590360484782785, 'n_estimators': 116, 'gamma': 0.10253063634691578, 'subsample': 0.6384594603463342, 'colsample_bytree': 0.7678524154337822, 'reg_alpha': 0.43079712318276786, 'reg_lambda': 0.023930149207897978, 'min_child_weight': 6}. Best is trial 14 with value: 38.976887870062036.\n",
      "[I 2025-02-27 12:22:58,955] Trial 75 finished with value: 38.980617872121385 and parameters: {'max_depth': 3, 'learning_rate': 0.06689471264155747, 'n_estimators': 152, 'gamma': 0.07723272019775955, 'subsample': 0.6017646100315974, 'colsample_bytree': 0.8103880989198184, 'reg_alpha': 0.5641047558135988, 'reg_lambda': 0.013913433326895413, 'min_child_weight': 6}. Best is trial 14 with value: 38.976887870062036.\n",
      "[I 2025-02-27 12:22:59,938] Trial 76 finished with value: 38.97862999085164 and parameters: {'max_depth': 4, 'learning_rate': 0.01670191048930058, 'n_estimators': 230, 'gamma': 0.24163273471748573, 'subsample': 0.5454650512915513, 'colsample_bytree': 0.9101392367779528, 'reg_alpha': 0.8034165592099359, 'reg_lambda': 0.06273760283787191, 'min_child_weight': 7}. Best is trial 14 with value: 38.976887870062036.\n",
      "[I 2025-02-27 12:23:00,613] Trial 77 finished with value: 38.97761365399607 and parameters: {'max_depth': 3, 'learning_rate': 0.023097916162634367, 'n_estimators': 211, 'gamma': 0.0583798029622257, 'subsample': 0.5977651722714129, 'colsample_bytree': 0.6632526289513908, 'reg_alpha': 0.2483824108210529, 'reg_lambda': 0.4783946139158267, 'min_child_weight': 4}. Best is trial 14 with value: 38.976887870062036.\n",
      "[I 2025-02-27 12:23:01,193] Trial 78 finished with value: 38.9824287624619 and parameters: {'max_depth': 2, 'learning_rate': 0.011453320621183666, 'n_estimators': 174, 'gamma': 0.1150977069704369, 'subsample': 0.6405729519837305, 'colsample_bytree': 0.9758870867082313, 'reg_alpha': 0.3660061370234549, 'reg_lambda': 0.032326849974695995, 'min_child_weight': 5}. Best is trial 14 with value: 38.976887870062036.\n",
      "[I 2025-02-27 12:23:01,647] Trial 79 finished with value: 38.976851921925345 and parameters: {'max_depth': 3, 'learning_rate': 0.040735868581746826, 'n_estimators': 124, 'gamma': 0.29738039114747217, 'subsample': 0.7939653993656169, 'colsample_bytree': 0.7498018381820212, 'reg_alpha': 0.46510839221830824, 'reg_lambda': 0.022930943924157995, 'min_child_weight': 6}. Best is trial 79 with value: 38.976851921925345.\n",
      "[I 2025-02-27 12:23:02,200] Trial 80 finished with value: 38.97869441314607 and parameters: {'max_depth': 4, 'learning_rate': 0.05849724728307256, 'n_estimators': 105, 'gamma': 0.3119234089548785, 'subsample': 0.793082411662824, 'colsample_bytree': 0.6173381157486454, 'reg_alpha': 0.5922844790314488, 'reg_lambda': 0.02531653158190396, 'min_child_weight': 4}. Best is trial 79 with value: 38.976851921925345.\n",
      "[I 2025-02-27 12:23:02,679] Trial 81 finished with value: 38.97722215969055 and parameters: {'max_depth': 3, 'learning_rate': 0.041395045370052064, 'n_estimators': 130, 'gamma': 0.20803398435523235, 'subsample': 0.8672021610219874, 'colsample_bytree': 0.85231118365164, 'reg_alpha': 0.482290067536324, 'reg_lambda': 0.01675950065466639, 'min_child_weight': 6}. Best is trial 79 with value: 38.976851921925345.\n",
      "[I 2025-02-27 12:23:03,181] Trial 82 finished with value: 38.97662677151172 and parameters: {'max_depth': 3, 'learning_rate': 0.04363876395282883, 'n_estimators': 128, 'gamma': 0.20829808698342822, 'subsample': 0.8636170354447188, 'colsample_bytree': 0.8557056906362056, 'reg_alpha': 0.47690258627515447, 'reg_lambda': 0.020257373172700162, 'min_child_weight': 6}. Best is trial 82 with value: 38.97662677151172.\n",
      "[I 2025-02-27 12:23:03,579] Trial 83 finished with value: 38.97782603940927 and parameters: {'max_depth': 2, 'learning_rate': 0.04457005299099204, 'n_estimators': 126, 'gamma': 0.3966672519659564, 'subsample': 0.866891375184074, 'colsample_bytree': 0.8535716446321127, 'reg_alpha': 0.019183598484398757, 'reg_lambda': 0.011965893835835543, 'min_child_weight': 6}. Best is trial 82 with value: 38.97662677151172.\n",
      "[I 2025-02-27 12:23:03,863] Trial 84 finished with value: 38.97874432990174 and parameters: {'max_depth': 3, 'learning_rate': 0.03919215528143094, 'n_estimators': 67, 'gamma': 0.20277585144334606, 'subsample': 0.8395056226106723, 'colsample_bytree': 0.7456541317679264, 'reg_alpha': 0.47538639893236595, 'reg_lambda': 0.017622240393969438, 'min_child_weight': 7}. Best is trial 82 with value: 38.97662677151172.\n",
      "[I 2025-02-27 12:23:04,189] Trial 85 finished with value: 38.979711684457605 and parameters: {'max_depth': 2, 'learning_rate': 0.03750765673217036, 'n_estimators': 84, 'gamma': 0.2920410950377381, 'subsample': 0.8228072561893007, 'colsample_bytree': 0.7970572501288558, 'reg_alpha': 0.7210997473823386, 'reg_lambda': 0.02062847469418986, 'min_child_weight': 6}. Best is trial 82 with value: 38.97662677151172.\n",
      "[I 2025-02-27 12:23:04,658] Trial 86 finished with value: 38.977783862890945 and parameters: {'max_depth': 3, 'learning_rate': 0.04640930215319889, 'n_estimators': 136, 'gamma': 0.23038921091152834, 'subsample': 0.8988212453834744, 'colsample_bytree': 0.868621107854166, 'reg_alpha': 0.3647991557686198, 'reg_lambda': 0.015720511905880107, 'min_child_weight': 7}. Best is trial 82 with value: 38.97662677151172.\n",
      "[I 2025-02-27 12:23:05,437] Trial 87 finished with value: 38.9882519543075 and parameters: {'max_depth': 4, 'learning_rate': 0.08722831664072672, 'n_estimators': 167, 'gamma': 0.17828100913635148, 'subsample': 0.8705702090614934, 'colsample_bytree': 0.8333517963228358, 'reg_alpha': 0.274030475540594, 'reg_lambda': 0.01110296009821101, 'min_child_weight': 6}. Best is trial 82 with value: 38.97662677151172.\n",
      "[I 2025-02-27 12:23:06,132] Trial 88 finished with value: 39.02810669976876 and parameters: {'max_depth': 7, 'learning_rate': 0.07265901694947953, 'n_estimators': 97, 'gamma': 0.14994282993464328, 'subsample': 0.772879049455092, 'colsample_bytree': 0.9415641324064021, 'reg_alpha': 0.9700518819237447, 'reg_lambda': 0.022733037874963825, 'min_child_weight': 6}. Best is trial 82 with value: 38.97662677151172.\n",
      "[I 2025-02-27 12:23:06,603] Trial 89 finished with value: 38.977323048410916 and parameters: {'max_depth': 3, 'learning_rate': 0.028378217118045324, 'n_estimators': 130, 'gamma': 0.10642433893438152, 'subsample': 0.8535416576860497, 'colsample_bytree': 0.820651631831202, 'reg_alpha': 0.4281595509213107, 'reg_lambda': 0.02782009062066246, 'min_child_weight': 7}. Best is trial 82 with value: 38.97662677151172.\n",
      "[I 2025-02-27 12:23:07,131] Trial 90 finished with value: 38.97913488213847 and parameters: {'max_depth': 4, 'learning_rate': 0.03355872075963473, 'n_estimators': 118, 'gamma': 0.6462005811064997, 'subsample': 0.8106273870413452, 'colsample_bytree': 0.8998050110233232, 'reg_alpha': 0.3288932056412767, 'reg_lambda': 0.01523669422362671, 'min_child_weight': 6}. Best is trial 82 with value: 38.97662677151172.\n",
      "[I 2025-02-27 12:23:08,206] Trial 91 finished with value: 38.980354948230726 and parameters: {'max_depth': 3, 'learning_rate': 0.053533612224291885, 'n_estimators': 286, 'gamma': 0.13405686941906683, 'subsample': 0.7972454984290375, 'colsample_bytree': 0.7047042408171885, 'reg_alpha': 0.6342920039492128, 'reg_lambda': 0.03387086457923724, 'min_child_weight': 5}. Best is trial 82 with value: 38.97662677151172.\n",
      "[I 2025-02-27 12:23:08,944] Trial 92 finished with value: 38.977829079667686 and parameters: {'max_depth': 3, 'learning_rate': 0.043323092726632186, 'n_estimators': 164, 'gamma': 0.1849034951694755, 'subsample': 0.8280785333133964, 'colsample_bytree': 0.7357434974137051, 'reg_alpha': 1.2230855006632064, 'reg_lambda': 0.04235257991155098, 'min_child_weight': 5}. Best is trial 82 with value: 38.97662677151172.\n",
      "[I 2025-02-27 12:23:09,360] Trial 93 finished with value: 38.97868641730099 and parameters: {'max_depth': 3, 'learning_rate': 0.10325027684160551, 'n_estimators': 98, 'gamma': 0.08656369532432515, 'subsample': 0.8449307047976431, 'colsample_bytree': 0.7616008165607882, 'reg_alpha': 0.5014536050073434, 'reg_lambda': 0.019591897705462182, 'min_child_weight': 6}. Best is trial 82 with value: 38.97662677151172.\n",
      "[I 2025-02-27 12:23:09,655] Trial 94 finished with value: 38.98287813235686 and parameters: {'max_depth': 2, 'learning_rate': 0.026411286400156712, 'n_estimators': 81, 'gamma': 0.06634267145192134, 'subsample': 0.7851313937567418, 'colsample_bytree': 0.654122067218825, 'reg_alpha': 0.9042281987241652, 'reg_lambda': 0.03699923343388543, 'min_child_weight': 4}. Best is trial 82 with value: 38.97662677151172.\n",
      "[I 2025-02-27 12:23:10,191] Trial 95 finished with value: 38.981525304658746 and parameters: {'max_depth': 3, 'learning_rate': 0.010770822191677605, 'n_estimators': 140, 'gamma': 0.12173782189573207, 'subsample': 0.80210691634777, 'colsample_bytree': 0.6824410470517489, 'reg_alpha': 0.7152740350101487, 'reg_lambda': 0.027260289394865182, 'min_child_weight': 5}. Best is trial 82 with value: 38.97662677151172.\n",
      "[I 2025-02-27 12:23:10,734] Trial 96 finished with value: 38.98304694481027 and parameters: {'max_depth': 2, 'learning_rate': 0.012732624229424868, 'n_estimators': 146, 'gamma': 0.15541641982900312, 'subsample': 0.770676699903105, 'colsample_bytree': 0.9737123967826042, 'reg_alpha': 0.39804311623408273, 'reg_lambda': 0.045972456107589904, 'min_child_weight': 10}. Best is trial 82 with value: 38.97662677151172.\n",
      "[I 2025-02-27 12:23:13,106] Trial 97 finished with value: 38.99548359943437 and parameters: {'max_depth': 5, 'learning_rate': 0.031298042731113224, 'n_estimators': 331, 'gamma': 0.2392692821251491, 'subsample': 0.812492482721728, 'colsample_bytree': 0.7861862510523119, 'reg_alpha': 0.5270631582369012, 'reg_lambda': 0.022380376308566485, 'min_child_weight': 6}. Best is trial 82 with value: 38.97662677151172.\n",
      "[I 2025-02-27 12:23:14,191] Trial 98 finished with value: 38.97799349448481 and parameters: {'max_depth': 4, 'learning_rate': 0.017560895580974255, 'n_estimators': 211, 'gamma': 0.3305612562628572, 'subsample': 0.7166269079949993, 'colsample_bytree': 0.9959789175145422, 'reg_alpha': 0.260614214500163, 'reg_lambda': 0.0170712956511617, 'min_child_weight': 4}. Best is trial 82 with value: 38.97662677151172.\n",
      "[I 2025-02-27 12:23:14,666] Trial 99 finished with value: 38.9819401962294 and parameters: {'max_depth': 3, 'learning_rate': 0.011157809453671896, 'n_estimators': 128, 'gamma': 0.4226292757138459, 'subsample': 0.9226979638224029, 'colsample_bytree': 0.8543867440649, 'reg_alpha': 0.33592636937426334, 'reg_lambda': 0.03257885326268344, 'min_child_weight': 7}. Best is trial 82 with value: 38.97662677151172.\n"
     ]
    },
    {
     "name": "stdout",
     "output_type": "stream",
     "text": [
      "XGBoost + optuna RMSE: 38.97663\n"
     ]
    }
   ],
   "source": [
    "def objective(trial):\n",
    "    # Определяем гиперпараметры для оптимизации\n",
    "    params={\n",
    "        'max_depth': trial.suggest_int('max_depth', 1, 10),\n",
    "        'learning_rate': trial.suggest_float('learning_rate', 0.01, 1.0, log=True),\n",
    "        'n_estimators': trial.suggest_int('n_estimators', 50, 500),\n",
    "        'gamma': trial.suggest_float('gamma', 0.01, 10.0, log=True),\n",
    "        'subsample': trial.suggest_float('subsample', 0.5, 1.0),\n",
    "        'colsample_bytree': trial.suggest_float('colsample_bytree', 0.2, 1.0),\n",
    "        'reg_alpha': trial.suggest_float('reg_alpha', 0.01, 10.0, log=True),\n",
    "        'reg_lambda': trial.suggest_float('reg_lambda', 0.01, 10.0, log=True),\n",
    "        'min_child_weight': trial.suggest_int('min_child_weight', 1, 10)\n",
    "    }\n",
    "\n",
    "    # Создаем модель\n",
    "    model = XGBRegressor(**params)\n",
    "    model.fit(X_train_encoded, y_train)\n",
    "    y_pred = model.predict(X_val_encoded)\n",
    "    rmse = root_mean_squared_error(y_val, y_pred)\n",
    "    return rmse\n",
    "\n",
    "# Создаем Bayesian Optimization\n",
    "study = optuna.create_study()\n",
    "# Запускаем Bayesian Optimization\n",
    "study.optimize(objective, n_trials=100)\n",
    "best_params_xgb = study.best_params\n",
    "# Создаем модель с лучшими гиперпараметрами\n",
    "best_xgb_model = XGBRegressor(**best_params_xgb)\n",
    "best_xgb_model.fit(X_train_encoded, y_train)\n",
    "\n",
    "y_pred = best_xgb_model.predict(X_val_encoded)\n",
    "rmse_optuna = root_mean_squared_error(y_val, y_pred)\n",
    "\n",
    "print(f'XGBoost + optuna RMSE: {rmse_optuna:.5f}')"
   ]
  },
  {
   "cell_type": "code",
   "execution_count": 19,
   "metadata": {},
   "outputs": [
    {
     "data": {
      "text/plain": [
       "['best_xgb_model.joblib']"
      ]
     },
     "execution_count": 19,
     "metadata": {},
     "output_type": "execute_result"
    }
   ],
   "source": [
    "# joblib.dump(xgb_model,'best_xgb_model.joblib')"
   ]
  },
  {
   "cell_type": "markdown",
   "metadata": {},
   "source": [
    "Загрузка лучших из ранее полученных моделей"
   ]
  },
  {
   "cell_type": "code",
   "execution_count": 53,
   "metadata": {},
   "outputs": [],
   "source": [
    "# rf_model = joblib.load('best_rf_model.joblib')\n",
    "# xgb_model = joblib.load('best_rf_model.joblib')\n",
    "best_cb_model = joblib.load('best_cb_model.joblib')"
   ]
  },
  {
   "cell_type": "markdown",
   "metadata": {},
   "source": [
    "### Stacking"
   ]
  },
  {
   "cell_type": "code",
   "execution_count": 54,
   "metadata": {},
   "outputs": [],
   "source": [
    "# Создание пайплайна для Random Forest с One-Hot Encoding\n",
    "preprocessor_rf = ColumnTransformer(\n",
    "    transformers=[\n",
    "        ('onehot', OneHotEncoder(handle_unknown='ignore', drop='first'), categorical_cols),\n",
    "        ('passthrough', 'passthrough', numerical_cols)\n",
    "    ]\n",
    ")\n",
    "\n",
    "# rf_model = joblib.load('best_rf_model.joblib')\n",
    "rf_model = best_rf_model\n",
    "\n",
    "rf_pipeline = Pipeline(steps=[('preprocessor', preprocessor_rf),\n",
    "                               ('model', rf_model)])\n",
    "\n",
    "# Создание пайплайна для XGBoost с One-Hot Encoding\n",
    "preprocessor_xgb = ColumnTransformer(\n",
    "    transformers=[\n",
    "        ('onehot', OneHotEncoder(handle_unknown='ignore', drop='first'), categorical_cols),\n",
    "        ('passthrough', 'passthrough', numerical_cols)\n",
    "    ]\n",
    ")\n",
    "\n",
    "# xgb_model = joblib.load('best_rf_model.joblib')\n",
    "xgb_model = best_xgb_model\n",
    "\n",
    "xgb_pipeline = Pipeline(steps=[('preprocessor', preprocessor_xgb),\n",
    "                               ('model', xgb_model)])\n",
    "\n",
    "\n",
    "# Создание пайплайна для LinearRegression с One-Hot Encoding\n",
    "preprocessor_lr = ColumnTransformer(\n",
    "    transformers=[\n",
    "        ('onehot', OneHotEncoder(handle_unknown='ignore', drop='first'), categorical_cols),\n",
    "        ('passthrough', 'passthrough', numerical_cols)\n",
    "    ]\n",
    ")\n",
    "\n",
    "# xgb_model = joblib.load('best_rf_model.joblib')\n",
    "lr_model = Ridge(alpha=10)\n",
    "\n",
    "lr_pipeline = Pipeline(steps=[('preprocessor', preprocessor_lr),\n",
    "                               ('model', xgb_model)])"
   ]
  },
  {
   "cell_type": "code",
   "execution_count": 55,
   "metadata": {},
   "outputs": [],
   "source": [
    "# Определите базовые модели\n",
    "\n",
    "# cb_model = joblib.load('best_cb_model.joblib')\n",
    "\n",
    "base_models = [\n",
    "    # ('xgboost', xgb_pipeline),\n",
    "    ('random_forest', rf_pipeline),\n",
    "    ('catboost', best_cb_model)\n",
    "]\n",
    "\n",
    "# Мета-алгоритм\n",
    "# meta_model = CatBoostRegressor(iterations=300,\n",
    "#                                learning_rate=0.05,\n",
    "#                                depth=8,\n",
    "#                                l2_leaf_reg=0.07,\n",
    "#                                logging_level='Silent')\n",
    "meta_model = Ridge(alpha=100)\n",
    "# meta_model = Ridge(alpha=10)\n",
    "# meta_model = RandomForestRegressor(**best_params_rf)\n",
    "# meta_model = CatBoostRegressor(iterations=300, learning_rate=0.03, depth=6, l2_leaf_reg=0.6, silent=True)\n",
    "\n",
    "# Создание стекинг-модели\n",
    "stacked_model = StackingRegressor(estimators=base_models, final_estimator=meta_model, cv=5)"
   ]
  },
  {
   "cell_type": "markdown",
   "metadata": {},
   "source": [
    "'iterations': 282, 'learning_rate': 0.03059899787943897, 'depth': 6, 'l2_leaf_reg': 0.5864592415216597"
   ]
  },
  {
   "cell_type": "code",
   "execution_count": 56,
   "metadata": {},
   "outputs": [
    {
     "ename": "CatBoostError",
     "evalue": "Bad value for num_feature[non_default_doc_idx=0,feature_idx=4]=\"No\": Cannot convert 'b'No'' to float",
     "output_type": "error",
     "traceback": [
      "\u001b[0;31m---------------------------------------------------------------------------\u001b[0m",
      "\u001b[0;31mTypeError\u001b[0m                                 Traceback (most recent call last)",
      "File \u001b[0;32m_catboost.pyx:2547\u001b[0m, in \u001b[0;36m_catboost.get_float_feature\u001b[0;34m()\u001b[0m\n",
      "File \u001b[0;32m_catboost.pyx:1226\u001b[0m, in \u001b[0;36m_catboost._FloatOrNan\u001b[0;34m()\u001b[0m\n",
      "File \u001b[0;32m_catboost.pyx:1021\u001b[0m, in \u001b[0;36m_catboost._FloatOrNanFromString\u001b[0;34m()\u001b[0m\n",
      "\u001b[0;31mTypeError\u001b[0m: Cannot convert 'b'No'' to float",
      "\nDuring handling of the above exception, another exception occurred:\n",
      "\u001b[0;31mCatBoostError\u001b[0m                             Traceback (most recent call last)",
      "Cell \u001b[0;32mIn[56], line 2\u001b[0m\n\u001b[1;32m      1\u001b[0m \u001b[38;5;66;03m# Обучение стекинг-модели\u001b[39;00m\n\u001b[0;32m----> 2\u001b[0m \u001b[43mstacked_model\u001b[49m\u001b[38;5;241;43m.\u001b[39;49m\u001b[43mfit\u001b[49m\u001b[43m(\u001b[49m\u001b[43mX_train\u001b[49m\u001b[43m,\u001b[49m\u001b[43m \u001b[49m\u001b[43my_train\u001b[49m\u001b[43m)\u001b[49m\n\u001b[1;32m      4\u001b[0m \u001b[38;5;66;03m# Прогнозирование\u001b[39;00m\n\u001b[1;32m      5\u001b[0m predictions \u001b[38;5;241m=\u001b[39m stacked_model\u001b[38;5;241m.\u001b[39mpredict(X_val)\n",
      "File \u001b[0;32m~/DS&ML/kaggle/.venv/lib/python3.12/site-packages/sklearn/utils/validation.py:63\u001b[0m, in \u001b[0;36m_deprecate_positional_args.<locals>._inner_deprecate_positional_args.<locals>.inner_f\u001b[0;34m(*args, **kwargs)\u001b[0m\n\u001b[1;32m     61\u001b[0m extra_args \u001b[38;5;241m=\u001b[39m \u001b[38;5;28mlen\u001b[39m(args) \u001b[38;5;241m-\u001b[39m \u001b[38;5;28mlen\u001b[39m(all_args)\n\u001b[1;32m     62\u001b[0m \u001b[38;5;28;01mif\u001b[39;00m extra_args \u001b[38;5;241m<\u001b[39m\u001b[38;5;241m=\u001b[39m \u001b[38;5;241m0\u001b[39m:\n\u001b[0;32m---> 63\u001b[0m     \u001b[38;5;28;01mreturn\u001b[39;00m \u001b[43mf\u001b[49m\u001b[43m(\u001b[49m\u001b[38;5;241;43m*\u001b[39;49m\u001b[43margs\u001b[49m\u001b[43m,\u001b[49m\u001b[43m \u001b[49m\u001b[38;5;241;43m*\u001b[39;49m\u001b[38;5;241;43m*\u001b[39;49m\u001b[43mkwargs\u001b[49m\u001b[43m)\u001b[49m\n\u001b[1;32m     65\u001b[0m \u001b[38;5;66;03m# extra_args > 0\u001b[39;00m\n\u001b[1;32m     66\u001b[0m args_msg \u001b[38;5;241m=\u001b[39m [\n\u001b[1;32m     67\u001b[0m     \u001b[38;5;124m\"\u001b[39m\u001b[38;5;132;01m{}\u001b[39;00m\u001b[38;5;124m=\u001b[39m\u001b[38;5;132;01m{}\u001b[39;00m\u001b[38;5;124m\"\u001b[39m\u001b[38;5;241m.\u001b[39mformat(name, arg)\n\u001b[1;32m     68\u001b[0m     \u001b[38;5;28;01mfor\u001b[39;00m name, arg \u001b[38;5;129;01min\u001b[39;00m \u001b[38;5;28mzip\u001b[39m(kwonly_args[:extra_args], args[\u001b[38;5;241m-\u001b[39mextra_args:])\n\u001b[1;32m     69\u001b[0m ]\n",
      "File \u001b[0;32m~/DS&ML/kaggle/.venv/lib/python3.12/site-packages/sklearn/ensemble/_stacking.py:1063\u001b[0m, in \u001b[0;36mStackingRegressor.fit\u001b[0;34m(self, X, y, sample_weight, **fit_params)\u001b[0m\n\u001b[1;32m   1061\u001b[0m \u001b[38;5;28;01mif\u001b[39;00m sample_weight \u001b[38;5;129;01mis\u001b[39;00m \u001b[38;5;129;01mnot\u001b[39;00m \u001b[38;5;28;01mNone\u001b[39;00m:\n\u001b[1;32m   1062\u001b[0m     fit_params[\u001b[38;5;124m\"\u001b[39m\u001b[38;5;124msample_weight\u001b[39m\u001b[38;5;124m\"\u001b[39m] \u001b[38;5;241m=\u001b[39m sample_weight\n\u001b[0;32m-> 1063\u001b[0m \u001b[38;5;28;01mreturn\u001b[39;00m \u001b[38;5;28;43msuper\u001b[39;49m\u001b[43m(\u001b[49m\u001b[43m)\u001b[49m\u001b[38;5;241;43m.\u001b[39;49m\u001b[43mfit\u001b[49m\u001b[43m(\u001b[49m\u001b[43mX\u001b[49m\u001b[43m,\u001b[49m\u001b[43m \u001b[49m\u001b[43my\u001b[49m\u001b[43m,\u001b[49m\u001b[43m \u001b[49m\u001b[38;5;241;43m*\u001b[39;49m\u001b[38;5;241;43m*\u001b[39;49m\u001b[43mfit_params\u001b[49m\u001b[43m)\u001b[49m\n",
      "File \u001b[0;32m~/DS&ML/kaggle/.venv/lib/python3.12/site-packages/sklearn/base.py:1389\u001b[0m, in \u001b[0;36m_fit_context.<locals>.decorator.<locals>.wrapper\u001b[0;34m(estimator, *args, **kwargs)\u001b[0m\n\u001b[1;32m   1382\u001b[0m     estimator\u001b[38;5;241m.\u001b[39m_validate_params()\n\u001b[1;32m   1384\u001b[0m \u001b[38;5;28;01mwith\u001b[39;00m config_context(\n\u001b[1;32m   1385\u001b[0m     skip_parameter_validation\u001b[38;5;241m=\u001b[39m(\n\u001b[1;32m   1386\u001b[0m         prefer_skip_nested_validation \u001b[38;5;129;01mor\u001b[39;00m global_skip_validation\n\u001b[1;32m   1387\u001b[0m     )\n\u001b[1;32m   1388\u001b[0m ):\n\u001b[0;32m-> 1389\u001b[0m     \u001b[38;5;28;01mreturn\u001b[39;00m \u001b[43mfit_method\u001b[49m\u001b[43m(\u001b[49m\u001b[43mestimator\u001b[49m\u001b[43m,\u001b[49m\u001b[43m \u001b[49m\u001b[38;5;241;43m*\u001b[39;49m\u001b[43margs\u001b[49m\u001b[43m,\u001b[49m\u001b[43m \u001b[49m\u001b[38;5;241;43m*\u001b[39;49m\u001b[38;5;241;43m*\u001b[39;49m\u001b[43mkwargs\u001b[49m\u001b[43m)\u001b[49m\n",
      "File \u001b[0;32m~/DS&ML/kaggle/.venv/lib/python3.12/site-packages/sklearn/ensemble/_stacking.py:212\u001b[0m, in \u001b[0;36m_BaseStacking.fit\u001b[0;34m(self, X, y, **fit_params)\u001b[0m\n\u001b[1;32m    207\u001b[0m             \u001b[38;5;28mself\u001b[39m\u001b[38;5;241m.\u001b[39mestimators_\u001b[38;5;241m.\u001b[39mappend(estimator)\n\u001b[1;32m    208\u001b[0m \u001b[38;5;28;01melse\u001b[39;00m:\n\u001b[1;32m    209\u001b[0m     \u001b[38;5;66;03m# Fit the base estimators on the whole training data. Those\u001b[39;00m\n\u001b[1;32m    210\u001b[0m     \u001b[38;5;66;03m# base estimators will be used in transform, predict, and\u001b[39;00m\n\u001b[1;32m    211\u001b[0m     \u001b[38;5;66;03m# predict_proba. They are exposed publicly.\u001b[39;00m\n\u001b[0;32m--> 212\u001b[0m     \u001b[38;5;28mself\u001b[39m\u001b[38;5;241m.\u001b[39mestimators_ \u001b[38;5;241m=\u001b[39m \u001b[43mParallel\u001b[49m\u001b[43m(\u001b[49m\u001b[43mn_jobs\u001b[49m\u001b[38;5;241;43m=\u001b[39;49m\u001b[38;5;28;43mself\u001b[39;49m\u001b[38;5;241;43m.\u001b[39;49m\u001b[43mn_jobs\u001b[49m\u001b[43m)\u001b[49m\u001b[43m(\u001b[49m\n\u001b[1;32m    213\u001b[0m \u001b[43m        \u001b[49m\u001b[43mdelayed\u001b[49m\u001b[43m(\u001b[49m\u001b[43m_fit_single_estimator\u001b[49m\u001b[43m)\u001b[49m\u001b[43m(\u001b[49m\n\u001b[1;32m    214\u001b[0m \u001b[43m            \u001b[49m\u001b[43mclone\u001b[49m\u001b[43m(\u001b[49m\u001b[43mest\u001b[49m\u001b[43m)\u001b[49m\u001b[43m,\u001b[49m\u001b[43m \u001b[49m\u001b[43mX\u001b[49m\u001b[43m,\u001b[49m\u001b[43m \u001b[49m\u001b[43my\u001b[49m\u001b[43m,\u001b[49m\u001b[43m \u001b[49m\u001b[43mrouted_params\u001b[49m\u001b[43m[\u001b[49m\u001b[43mname\u001b[49m\u001b[43m]\u001b[49m\u001b[43m[\u001b[49m\u001b[38;5;124;43m\"\u001b[39;49m\u001b[38;5;124;43mfit\u001b[39;49m\u001b[38;5;124;43m\"\u001b[39;49m\u001b[43m]\u001b[49m\n\u001b[1;32m    215\u001b[0m \u001b[43m        \u001b[49m\u001b[43m)\u001b[49m\n\u001b[1;32m    216\u001b[0m \u001b[43m        \u001b[49m\u001b[38;5;28;43;01mfor\u001b[39;49;00m\u001b[43m \u001b[49m\u001b[43mname\u001b[49m\u001b[43m,\u001b[49m\u001b[43m \u001b[49m\u001b[43mest\u001b[49m\u001b[43m \u001b[49m\u001b[38;5;129;43;01min\u001b[39;49;00m\u001b[43m \u001b[49m\u001b[38;5;28;43mzip\u001b[39;49m\u001b[43m(\u001b[49m\u001b[43mnames\u001b[49m\u001b[43m,\u001b[49m\u001b[43m \u001b[49m\u001b[43mall_estimators\u001b[49m\u001b[43m)\u001b[49m\n\u001b[1;32m    217\u001b[0m \u001b[43m        \u001b[49m\u001b[38;5;28;43;01mif\u001b[39;49;00m\u001b[43m \u001b[49m\u001b[43mest\u001b[49m\u001b[43m \u001b[49m\u001b[38;5;241;43m!=\u001b[39;49m\u001b[43m \u001b[49m\u001b[38;5;124;43m\"\u001b[39;49m\u001b[38;5;124;43mdrop\u001b[39;49m\u001b[38;5;124;43m\"\u001b[39;49m\n\u001b[1;32m    218\u001b[0m \u001b[43m    \u001b[49m\u001b[43m)\u001b[49m\n\u001b[1;32m    220\u001b[0m \u001b[38;5;28mself\u001b[39m\u001b[38;5;241m.\u001b[39mnamed_estimators_ \u001b[38;5;241m=\u001b[39m Bunch()\n\u001b[1;32m    221\u001b[0m est_fitted_idx \u001b[38;5;241m=\u001b[39m \u001b[38;5;241m0\u001b[39m\n",
      "File \u001b[0;32m~/DS&ML/kaggle/.venv/lib/python3.12/site-packages/sklearn/utils/parallel.py:77\u001b[0m, in \u001b[0;36mParallel.__call__\u001b[0;34m(self, iterable)\u001b[0m\n\u001b[1;32m     72\u001b[0m config \u001b[38;5;241m=\u001b[39m get_config()\n\u001b[1;32m     73\u001b[0m iterable_with_config \u001b[38;5;241m=\u001b[39m (\n\u001b[1;32m     74\u001b[0m     (_with_config(delayed_func, config), args, kwargs)\n\u001b[1;32m     75\u001b[0m     \u001b[38;5;28;01mfor\u001b[39;00m delayed_func, args, kwargs \u001b[38;5;129;01min\u001b[39;00m iterable\n\u001b[1;32m     76\u001b[0m )\n\u001b[0;32m---> 77\u001b[0m \u001b[38;5;28;01mreturn\u001b[39;00m \u001b[38;5;28;43msuper\u001b[39;49m\u001b[43m(\u001b[49m\u001b[43m)\u001b[49m\u001b[38;5;241;43m.\u001b[39;49m\u001b[38;5;21;43m__call__\u001b[39;49m\u001b[43m(\u001b[49m\u001b[43miterable_with_config\u001b[49m\u001b[43m)\u001b[49m\n",
      "File \u001b[0;32m~/DS&ML/kaggle/.venv/lib/python3.12/site-packages/joblib/parallel.py:1918\u001b[0m, in \u001b[0;36mParallel.__call__\u001b[0;34m(self, iterable)\u001b[0m\n\u001b[1;32m   1916\u001b[0m     output \u001b[38;5;241m=\u001b[39m \u001b[38;5;28mself\u001b[39m\u001b[38;5;241m.\u001b[39m_get_sequential_output(iterable)\n\u001b[1;32m   1917\u001b[0m     \u001b[38;5;28mnext\u001b[39m(output)\n\u001b[0;32m-> 1918\u001b[0m     \u001b[38;5;28;01mreturn\u001b[39;00m output \u001b[38;5;28;01mif\u001b[39;00m \u001b[38;5;28mself\u001b[39m\u001b[38;5;241m.\u001b[39mreturn_generator \u001b[38;5;28;01melse\u001b[39;00m \u001b[38;5;28;43mlist\u001b[39;49m\u001b[43m(\u001b[49m\u001b[43moutput\u001b[49m\u001b[43m)\u001b[49m\n\u001b[1;32m   1920\u001b[0m \u001b[38;5;66;03m# Let's create an ID that uniquely identifies the current call. If the\u001b[39;00m\n\u001b[1;32m   1921\u001b[0m \u001b[38;5;66;03m# call is interrupted early and that the same instance is immediately\u001b[39;00m\n\u001b[1;32m   1922\u001b[0m \u001b[38;5;66;03m# re-used, this id will be used to prevent workers that were\u001b[39;00m\n\u001b[1;32m   1923\u001b[0m \u001b[38;5;66;03m# concurrently finalizing a task from the previous call to run the\u001b[39;00m\n\u001b[1;32m   1924\u001b[0m \u001b[38;5;66;03m# callback.\u001b[39;00m\n\u001b[1;32m   1925\u001b[0m \u001b[38;5;28;01mwith\u001b[39;00m \u001b[38;5;28mself\u001b[39m\u001b[38;5;241m.\u001b[39m_lock:\n",
      "File \u001b[0;32m~/DS&ML/kaggle/.venv/lib/python3.12/site-packages/joblib/parallel.py:1847\u001b[0m, in \u001b[0;36mParallel._get_sequential_output\u001b[0;34m(self, iterable)\u001b[0m\n\u001b[1;32m   1845\u001b[0m \u001b[38;5;28mself\u001b[39m\u001b[38;5;241m.\u001b[39mn_dispatched_batches \u001b[38;5;241m+\u001b[39m\u001b[38;5;241m=\u001b[39m \u001b[38;5;241m1\u001b[39m\n\u001b[1;32m   1846\u001b[0m \u001b[38;5;28mself\u001b[39m\u001b[38;5;241m.\u001b[39mn_dispatched_tasks \u001b[38;5;241m+\u001b[39m\u001b[38;5;241m=\u001b[39m \u001b[38;5;241m1\u001b[39m\n\u001b[0;32m-> 1847\u001b[0m res \u001b[38;5;241m=\u001b[39m \u001b[43mfunc\u001b[49m\u001b[43m(\u001b[49m\u001b[38;5;241;43m*\u001b[39;49m\u001b[43margs\u001b[49m\u001b[43m,\u001b[49m\u001b[43m \u001b[49m\u001b[38;5;241;43m*\u001b[39;49m\u001b[38;5;241;43m*\u001b[39;49m\u001b[43mkwargs\u001b[49m\u001b[43m)\u001b[49m\n\u001b[1;32m   1848\u001b[0m \u001b[38;5;28mself\u001b[39m\u001b[38;5;241m.\u001b[39mn_completed_tasks \u001b[38;5;241m+\u001b[39m\u001b[38;5;241m=\u001b[39m \u001b[38;5;241m1\u001b[39m\n\u001b[1;32m   1849\u001b[0m \u001b[38;5;28mself\u001b[39m\u001b[38;5;241m.\u001b[39mprint_progress()\n",
      "File \u001b[0;32m~/DS&ML/kaggle/.venv/lib/python3.12/site-packages/sklearn/utils/parallel.py:139\u001b[0m, in \u001b[0;36m_FuncWrapper.__call__\u001b[0;34m(self, *args, **kwargs)\u001b[0m\n\u001b[1;32m    137\u001b[0m     config \u001b[38;5;241m=\u001b[39m {}\n\u001b[1;32m    138\u001b[0m \u001b[38;5;28;01mwith\u001b[39;00m config_context(\u001b[38;5;241m*\u001b[39m\u001b[38;5;241m*\u001b[39mconfig):\n\u001b[0;32m--> 139\u001b[0m     \u001b[38;5;28;01mreturn\u001b[39;00m \u001b[38;5;28;43mself\u001b[39;49m\u001b[38;5;241;43m.\u001b[39;49m\u001b[43mfunction\u001b[49m\u001b[43m(\u001b[49m\u001b[38;5;241;43m*\u001b[39;49m\u001b[43margs\u001b[49m\u001b[43m,\u001b[49m\u001b[43m \u001b[49m\u001b[38;5;241;43m*\u001b[39;49m\u001b[38;5;241;43m*\u001b[39;49m\u001b[43mkwargs\u001b[49m\u001b[43m)\u001b[49m\n",
      "File \u001b[0;32m~/DS&ML/kaggle/.venv/lib/python3.12/site-packages/sklearn/ensemble/_base.py:39\u001b[0m, in \u001b[0;36m_fit_single_estimator\u001b[0;34m(estimator, X, y, fit_params, message_clsname, message)\u001b[0m\n\u001b[1;32m     37\u001b[0m \u001b[38;5;28;01melse\u001b[39;00m:\n\u001b[1;32m     38\u001b[0m     \u001b[38;5;28;01mwith\u001b[39;00m _print_elapsed_time(message_clsname, message):\n\u001b[0;32m---> 39\u001b[0m         \u001b[43mestimator\u001b[49m\u001b[38;5;241;43m.\u001b[39;49m\u001b[43mfit\u001b[49m\u001b[43m(\u001b[49m\u001b[43mX\u001b[49m\u001b[43m,\u001b[49m\u001b[43m \u001b[49m\u001b[43my\u001b[49m\u001b[43m,\u001b[49m\u001b[43m \u001b[49m\u001b[38;5;241;43m*\u001b[39;49m\u001b[38;5;241;43m*\u001b[39;49m\u001b[43mfit_params\u001b[49m\u001b[43m)\u001b[49m\n\u001b[1;32m     40\u001b[0m \u001b[38;5;28;01mreturn\u001b[39;00m estimator\n",
      "File \u001b[0;32m~/DS&ML/kaggle/.venv/lib/python3.12/site-packages/catboost/core.py:5873\u001b[0m, in \u001b[0;36mCatBoostRegressor.fit\u001b[0;34m(self, X, y, cat_features, text_features, embedding_features, graph, sample_weight, baseline, use_best_model, eval_set, verbose, logging_level, plot, plot_file, column_description, verbose_eval, metric_period, silent, early_stopping_rounds, save_snapshot, snapshot_file, snapshot_interval, init_model, callbacks, log_cout, log_cerr)\u001b[0m\n\u001b[1;32m   5871\u001b[0m \u001b[38;5;28;01mif\u001b[39;00m \u001b[38;5;124m'\u001b[39m\u001b[38;5;124mloss_function\u001b[39m\u001b[38;5;124m'\u001b[39m \u001b[38;5;129;01min\u001b[39;00m params:\n\u001b[1;32m   5872\u001b[0m     CatBoostRegressor\u001b[38;5;241m.\u001b[39m_check_is_compatible_loss(params[\u001b[38;5;124m'\u001b[39m\u001b[38;5;124mloss_function\u001b[39m\u001b[38;5;124m'\u001b[39m])\n\u001b[0;32m-> 5873\u001b[0m \u001b[38;5;28;01mreturn\u001b[39;00m \u001b[38;5;28;43mself\u001b[39;49m\u001b[38;5;241;43m.\u001b[39;49m\u001b[43m_fit\u001b[49m\u001b[43m(\u001b[49m\u001b[43mX\u001b[49m\u001b[43m,\u001b[49m\u001b[43m \u001b[49m\u001b[43my\u001b[49m\u001b[43m,\u001b[49m\u001b[43m \u001b[49m\u001b[43mcat_features\u001b[49m\u001b[43m,\u001b[49m\u001b[43m \u001b[49m\u001b[43mtext_features\u001b[49m\u001b[43m,\u001b[49m\u001b[43m \u001b[49m\u001b[43membedding_features\u001b[49m\u001b[43m,\u001b[49m\u001b[43m \u001b[49m\u001b[38;5;28;43;01mNone\u001b[39;49;00m\u001b[43m,\u001b[49m\u001b[43m \u001b[49m\u001b[43mgraph\u001b[49m\u001b[43m,\u001b[49m\u001b[43m \u001b[49m\u001b[43msample_weight\u001b[49m\u001b[43m,\u001b[49m\u001b[43m \u001b[49m\u001b[38;5;28;43;01mNone\u001b[39;49;00m\u001b[43m,\u001b[49m\u001b[43m \u001b[49m\u001b[38;5;28;43;01mNone\u001b[39;49;00m\u001b[43m,\u001b[49m\u001b[43m \u001b[49m\u001b[38;5;28;43;01mNone\u001b[39;49;00m\u001b[43m,\u001b[49m\u001b[43m \u001b[49m\u001b[38;5;28;43;01mNone\u001b[39;49;00m\u001b[43m,\u001b[49m\u001b[43m \u001b[49m\u001b[43mbaseline\u001b[49m\u001b[43m,\u001b[49m\n\u001b[1;32m   5874\u001b[0m \u001b[43m                 \u001b[49m\u001b[43muse_best_model\u001b[49m\u001b[43m,\u001b[49m\u001b[43m \u001b[49m\u001b[43meval_set\u001b[49m\u001b[43m,\u001b[49m\u001b[43m \u001b[49m\u001b[43mverbose\u001b[49m\u001b[43m,\u001b[49m\u001b[43m \u001b[49m\u001b[43mlogging_level\u001b[49m\u001b[43m,\u001b[49m\u001b[43m \u001b[49m\u001b[43mplot\u001b[49m\u001b[43m,\u001b[49m\u001b[43m \u001b[49m\u001b[43mplot_file\u001b[49m\u001b[43m,\u001b[49m\u001b[43m \u001b[49m\u001b[43mcolumn_description\u001b[49m\u001b[43m,\u001b[49m\n\u001b[1;32m   5875\u001b[0m \u001b[43m                 \u001b[49m\u001b[43mverbose_eval\u001b[49m\u001b[43m,\u001b[49m\u001b[43m \u001b[49m\u001b[43mmetric_period\u001b[49m\u001b[43m,\u001b[49m\u001b[43m \u001b[49m\u001b[43msilent\u001b[49m\u001b[43m,\u001b[49m\u001b[43m \u001b[49m\u001b[43mearly_stopping_rounds\u001b[49m\u001b[43m,\u001b[49m\n\u001b[1;32m   5876\u001b[0m \u001b[43m                 \u001b[49m\u001b[43msave_snapshot\u001b[49m\u001b[43m,\u001b[49m\u001b[43m \u001b[49m\u001b[43msnapshot_file\u001b[49m\u001b[43m,\u001b[49m\u001b[43m \u001b[49m\u001b[43msnapshot_interval\u001b[49m\u001b[43m,\u001b[49m\u001b[43m \u001b[49m\u001b[43minit_model\u001b[49m\u001b[43m,\u001b[49m\u001b[43m \u001b[49m\u001b[43mcallbacks\u001b[49m\u001b[43m,\u001b[49m\u001b[43m \u001b[49m\u001b[43mlog_cout\u001b[49m\u001b[43m,\u001b[49m\u001b[43m \u001b[49m\u001b[43mlog_cerr\u001b[49m\u001b[43m)\u001b[49m\n",
      "File \u001b[0;32m~/DS&ML/kaggle/.venv/lib/python3.12/site-packages/catboost/core.py:2395\u001b[0m, in \u001b[0;36mCatBoost._fit\u001b[0;34m(self, X, y, cat_features, text_features, embedding_features, pairs, graph, sample_weight, group_id, group_weight, subgroup_id, pairs_weight, baseline, use_best_model, eval_set, verbose, logging_level, plot, plot_file, column_description, verbose_eval, metric_period, silent, early_stopping_rounds, save_snapshot, snapshot_file, snapshot_interval, init_model, callbacks, log_cout, log_cerr)\u001b[0m\n\u001b[1;32m   2392\u001b[0m \u001b[38;5;28;01mif\u001b[39;00m y \u001b[38;5;129;01mis\u001b[39;00m \u001b[38;5;28;01mNone\u001b[39;00m \u001b[38;5;129;01mand\u001b[39;00m \u001b[38;5;129;01mnot\u001b[39;00m \u001b[38;5;28misinstance\u001b[39m(X, PATH_TYPES \u001b[38;5;241m+\u001b[39m (Pool,)):\n\u001b[1;32m   2393\u001b[0m     \u001b[38;5;28;01mraise\u001b[39;00m CatBoostError(\u001b[38;5;124m\"\u001b[39m\u001b[38;5;124my may be None only when X is an instance of catboost.Pool or string\u001b[39m\u001b[38;5;124m\"\u001b[39m)\n\u001b[0;32m-> 2395\u001b[0m train_params \u001b[38;5;241m=\u001b[39m \u001b[38;5;28;43mself\u001b[39;49m\u001b[38;5;241;43m.\u001b[39;49m\u001b[43m_prepare_train_params\u001b[49m\u001b[43m(\u001b[49m\n\u001b[1;32m   2396\u001b[0m \u001b[43m    \u001b[49m\u001b[43mX\u001b[49m\u001b[38;5;241;43m=\u001b[39;49m\u001b[43mX\u001b[49m\u001b[43m,\u001b[49m\u001b[43m \u001b[49m\u001b[43my\u001b[49m\u001b[38;5;241;43m=\u001b[39;49m\u001b[43my\u001b[49m\u001b[43m,\u001b[49m\u001b[43m \u001b[49m\u001b[43mcat_features\u001b[49m\u001b[38;5;241;43m=\u001b[39;49m\u001b[43mcat_features\u001b[49m\u001b[43m,\u001b[49m\u001b[43m \u001b[49m\u001b[43mtext_features\u001b[49m\u001b[38;5;241;43m=\u001b[39;49m\u001b[43mtext_features\u001b[49m\u001b[43m,\u001b[49m\u001b[43m \u001b[49m\u001b[43membedding_features\u001b[49m\u001b[38;5;241;43m=\u001b[39;49m\u001b[43membedding_features\u001b[49m\u001b[43m,\u001b[49m\n\u001b[1;32m   2397\u001b[0m \u001b[43m    \u001b[49m\u001b[43mpairs\u001b[49m\u001b[38;5;241;43m=\u001b[39;49m\u001b[43mpairs\u001b[49m\u001b[43m,\u001b[49m\u001b[43m \u001b[49m\u001b[43mgraph\u001b[49m\u001b[38;5;241;43m=\u001b[39;49m\u001b[43mgraph\u001b[49m\u001b[43m,\u001b[49m\u001b[43m \u001b[49m\u001b[43msample_weight\u001b[49m\u001b[38;5;241;43m=\u001b[39;49m\u001b[43msample_weight\u001b[49m\u001b[43m,\u001b[49m\u001b[43m \u001b[49m\u001b[43mgroup_id\u001b[49m\u001b[38;5;241;43m=\u001b[39;49m\u001b[43mgroup_id\u001b[49m\u001b[43m,\u001b[49m\u001b[43m \u001b[49m\u001b[43mgroup_weight\u001b[49m\u001b[38;5;241;43m=\u001b[39;49m\u001b[43mgroup_weight\u001b[49m\u001b[43m,\u001b[49m\n\u001b[1;32m   2398\u001b[0m \u001b[43m    \u001b[49m\u001b[43msubgroup_id\u001b[49m\u001b[38;5;241;43m=\u001b[39;49m\u001b[43msubgroup_id\u001b[49m\u001b[43m,\u001b[49m\u001b[43m \u001b[49m\u001b[43mpairs_weight\u001b[49m\u001b[38;5;241;43m=\u001b[39;49m\u001b[43mpairs_weight\u001b[49m\u001b[43m,\u001b[49m\u001b[43m \u001b[49m\u001b[43mbaseline\u001b[49m\u001b[38;5;241;43m=\u001b[39;49m\u001b[43mbaseline\u001b[49m\u001b[43m,\u001b[49m\u001b[43m \u001b[49m\u001b[43muse_best_model\u001b[49m\u001b[38;5;241;43m=\u001b[39;49m\u001b[43muse_best_model\u001b[49m\u001b[43m,\u001b[49m\n\u001b[1;32m   2399\u001b[0m \u001b[43m    \u001b[49m\u001b[43meval_set\u001b[49m\u001b[38;5;241;43m=\u001b[39;49m\u001b[43meval_set\u001b[49m\u001b[43m,\u001b[49m\u001b[43m \u001b[49m\u001b[43mverbose\u001b[49m\u001b[38;5;241;43m=\u001b[39;49m\u001b[43mverbose\u001b[49m\u001b[43m,\u001b[49m\u001b[43m \u001b[49m\u001b[43mlogging_level\u001b[49m\u001b[38;5;241;43m=\u001b[39;49m\u001b[43mlogging_level\u001b[49m\u001b[43m,\u001b[49m\u001b[43m \u001b[49m\u001b[43mplot\u001b[49m\u001b[38;5;241;43m=\u001b[39;49m\u001b[43mplot\u001b[49m\u001b[43m,\u001b[49m\u001b[43m \u001b[49m\u001b[43mplot_file\u001b[49m\u001b[38;5;241;43m=\u001b[39;49m\u001b[43mplot_file\u001b[49m\u001b[43m,\u001b[49m\n\u001b[1;32m   2400\u001b[0m \u001b[43m    \u001b[49m\u001b[43mcolumn_description\u001b[49m\u001b[38;5;241;43m=\u001b[39;49m\u001b[43mcolumn_description\u001b[49m\u001b[43m,\u001b[49m\u001b[43m \u001b[49m\u001b[43mverbose_eval\u001b[49m\u001b[38;5;241;43m=\u001b[39;49m\u001b[43mverbose_eval\u001b[49m\u001b[43m,\u001b[49m\u001b[43m \u001b[49m\u001b[43mmetric_period\u001b[49m\u001b[38;5;241;43m=\u001b[39;49m\u001b[43mmetric_period\u001b[49m\u001b[43m,\u001b[49m\n\u001b[1;32m   2401\u001b[0m \u001b[43m    \u001b[49m\u001b[43msilent\u001b[49m\u001b[38;5;241;43m=\u001b[39;49m\u001b[43msilent\u001b[49m\u001b[43m,\u001b[49m\u001b[43m \u001b[49m\u001b[43mearly_stopping_rounds\u001b[49m\u001b[38;5;241;43m=\u001b[39;49m\u001b[43mearly_stopping_rounds\u001b[49m\u001b[43m,\u001b[49m\u001b[43m \u001b[49m\u001b[43msave_snapshot\u001b[49m\u001b[38;5;241;43m=\u001b[39;49m\u001b[43msave_snapshot\u001b[49m\u001b[43m,\u001b[49m\n\u001b[1;32m   2402\u001b[0m \u001b[43m    \u001b[49m\u001b[43msnapshot_file\u001b[49m\u001b[38;5;241;43m=\u001b[39;49m\u001b[43msnapshot_file\u001b[49m\u001b[43m,\u001b[49m\u001b[43m \u001b[49m\u001b[43msnapshot_interval\u001b[49m\u001b[38;5;241;43m=\u001b[39;49m\u001b[43msnapshot_interval\u001b[49m\u001b[43m,\u001b[49m\u001b[43m \u001b[49m\u001b[43minit_model\u001b[49m\u001b[38;5;241;43m=\u001b[39;49m\u001b[43minit_model\u001b[49m\u001b[43m,\u001b[49m\n\u001b[1;32m   2403\u001b[0m \u001b[43m    \u001b[49m\u001b[43mcallbacks\u001b[49m\u001b[38;5;241;43m=\u001b[39;49m\u001b[43mcallbacks\u001b[49m\n\u001b[1;32m   2404\u001b[0m \u001b[43m\u001b[49m\u001b[43m)\u001b[49m\n\u001b[1;32m   2405\u001b[0m params \u001b[38;5;241m=\u001b[39m train_params[\u001b[38;5;124m\"\u001b[39m\u001b[38;5;124mparams\u001b[39m\u001b[38;5;124m\"\u001b[39m]\n\u001b[1;32m   2406\u001b[0m train_pool \u001b[38;5;241m=\u001b[39m train_params[\u001b[38;5;124m\"\u001b[39m\u001b[38;5;124mtrain_pool\u001b[39m\u001b[38;5;124m\"\u001b[39m]\n",
      "File \u001b[0;32m~/DS&ML/kaggle/.venv/lib/python3.12/site-packages/catboost/core.py:2275\u001b[0m, in \u001b[0;36mCatBoost._prepare_train_params\u001b[0;34m(self, X, y, cat_features, text_features, embedding_features, pairs, graph, sample_weight, group_id, group_weight, subgroup_id, pairs_weight, baseline, use_best_model, eval_set, verbose, logging_level, plot, plot_file, column_description, verbose_eval, metric_period, silent, early_stopping_rounds, save_snapshot, snapshot_file, snapshot_interval, init_model, callbacks)\u001b[0m\n\u001b[1;32m   2272\u001b[0m text_features \u001b[38;5;241m=\u001b[39m _process_feature_indices(text_features, X, params, \u001b[38;5;124m'\u001b[39m\u001b[38;5;124mtext_features\u001b[39m\u001b[38;5;124m'\u001b[39m)\n\u001b[1;32m   2273\u001b[0m embedding_features \u001b[38;5;241m=\u001b[39m _process_feature_indices(embedding_features, X, params, \u001b[38;5;124m'\u001b[39m\u001b[38;5;124membedding_features\u001b[39m\u001b[38;5;124m'\u001b[39m)\n\u001b[0;32m-> 2275\u001b[0m train_pool \u001b[38;5;241m=\u001b[39m \u001b[43m_build_train_pool\u001b[49m\u001b[43m(\u001b[49m\u001b[43mX\u001b[49m\u001b[43m,\u001b[49m\u001b[43m \u001b[49m\u001b[43my\u001b[49m\u001b[43m,\u001b[49m\u001b[43m \u001b[49m\u001b[43mcat_features\u001b[49m\u001b[43m,\u001b[49m\u001b[43m \u001b[49m\u001b[43mtext_features\u001b[49m\u001b[43m,\u001b[49m\u001b[43m \u001b[49m\u001b[43membedding_features\u001b[49m\u001b[43m,\u001b[49m\u001b[43m \u001b[49m\u001b[43mpairs\u001b[49m\u001b[43m,\u001b[49m\u001b[43m \u001b[49m\u001b[43mgraph\u001b[49m\u001b[43m,\u001b[49m\n\u001b[1;32m   2276\u001b[0m \u001b[43m                               \u001b[49m\u001b[43msample_weight\u001b[49m\u001b[43m,\u001b[49m\u001b[43m \u001b[49m\u001b[43mgroup_id\u001b[49m\u001b[43m,\u001b[49m\u001b[43m \u001b[49m\u001b[43mgroup_weight\u001b[49m\u001b[43m,\u001b[49m\u001b[43m \u001b[49m\u001b[43msubgroup_id\u001b[49m\u001b[43m,\u001b[49m\u001b[43m \u001b[49m\u001b[43mpairs_weight\u001b[49m\u001b[43m,\u001b[49m\n\u001b[1;32m   2277\u001b[0m \u001b[43m                               \u001b[49m\u001b[43mbaseline\u001b[49m\u001b[43m,\u001b[49m\u001b[43m \u001b[49m\u001b[43mcolumn_description\u001b[49m\u001b[43m)\u001b[49m\n\u001b[1;32m   2278\u001b[0m \u001b[38;5;28;01mif\u001b[39;00m train_pool\u001b[38;5;241m.\u001b[39mis_empty_:\n\u001b[1;32m   2279\u001b[0m     \u001b[38;5;28;01mraise\u001b[39;00m CatBoostError(\u001b[38;5;124m\"\u001b[39m\u001b[38;5;124mX is empty.\u001b[39m\u001b[38;5;124m\"\u001b[39m)\n",
      "File \u001b[0;32m~/DS&ML/kaggle/.venv/lib/python3.12/site-packages/catboost/core.py:1513\u001b[0m, in \u001b[0;36m_build_train_pool\u001b[0;34m(X, y, cat_features, text_features, embedding_features, pairs, graph, sample_weight, group_id, group_weight, subgroup_id, pairs_weight, baseline, column_description)\u001b[0m\n\u001b[1;32m   1511\u001b[0m     \u001b[38;5;28;01mif\u001b[39;00m y \u001b[38;5;129;01mis\u001b[39;00m \u001b[38;5;28;01mNone\u001b[39;00m:\n\u001b[1;32m   1512\u001b[0m         \u001b[38;5;28;01mraise\u001b[39;00m CatBoostError(\u001b[38;5;124m\"\u001b[39m\u001b[38;5;124my has not initialized in fit(): X is not catboost.Pool object, y must be not None in fit().\u001b[39m\u001b[38;5;124m\"\u001b[39m)\n\u001b[0;32m-> 1513\u001b[0m     train_pool \u001b[38;5;241m=\u001b[39m \u001b[43mPool\u001b[49m\u001b[43m(\u001b[49m\u001b[43mX\u001b[49m\u001b[43m,\u001b[49m\u001b[43m \u001b[49m\u001b[43my\u001b[49m\u001b[43m,\u001b[49m\u001b[43m \u001b[49m\u001b[43mcat_features\u001b[49m\u001b[38;5;241;43m=\u001b[39;49m\u001b[43mcat_features\u001b[49m\u001b[43m,\u001b[49m\u001b[43m \u001b[49m\u001b[43mtext_features\u001b[49m\u001b[38;5;241;43m=\u001b[39;49m\u001b[43mtext_features\u001b[49m\u001b[43m,\u001b[49m\u001b[43m \u001b[49m\u001b[43membedding_features\u001b[49m\u001b[38;5;241;43m=\u001b[39;49m\u001b[43membedding_features\u001b[49m\u001b[43m,\u001b[49m\u001b[43m \u001b[49m\u001b[43mpairs\u001b[49m\u001b[38;5;241;43m=\u001b[39;49m\u001b[43mpairs\u001b[49m\u001b[43m,\u001b[49m\u001b[43m \u001b[49m\u001b[43mgraph\u001b[49m\u001b[38;5;241;43m=\u001b[39;49m\u001b[43mgraph\u001b[49m\u001b[43m,\u001b[49m\u001b[43m \u001b[49m\u001b[43mweight\u001b[49m\u001b[38;5;241;43m=\u001b[39;49m\u001b[43msample_weight\u001b[49m\u001b[43m,\u001b[49m\u001b[43m \u001b[49m\u001b[43mgroup_id\u001b[49m\u001b[38;5;241;43m=\u001b[39;49m\u001b[43mgroup_id\u001b[49m\u001b[43m,\u001b[49m\n\u001b[1;32m   1514\u001b[0m \u001b[43m                      \u001b[49m\u001b[43mgroup_weight\u001b[49m\u001b[38;5;241;43m=\u001b[39;49m\u001b[43mgroup_weight\u001b[49m\u001b[43m,\u001b[49m\u001b[43m \u001b[49m\u001b[43msubgroup_id\u001b[49m\u001b[38;5;241;43m=\u001b[39;49m\u001b[43msubgroup_id\u001b[49m\u001b[43m,\u001b[49m\u001b[43m \u001b[49m\u001b[43mpairs_weight\u001b[49m\u001b[38;5;241;43m=\u001b[39;49m\u001b[43mpairs_weight\u001b[49m\u001b[43m,\u001b[49m\u001b[43m \u001b[49m\u001b[43mbaseline\u001b[49m\u001b[38;5;241;43m=\u001b[39;49m\u001b[43mbaseline\u001b[49m\u001b[43m)\u001b[49m\n\u001b[1;32m   1515\u001b[0m \u001b[38;5;28;01mreturn\u001b[39;00m train_pool\n",
      "File \u001b[0;32m~/DS&ML/kaggle/.venv/lib/python3.12/site-packages/catboost/core.py:855\u001b[0m, in \u001b[0;36mPool.__init__\u001b[0;34m(self, data, label, cat_features, text_features, embedding_features, embedding_features_data, column_description, pairs, graph, delimiter, has_header, ignore_csv_quoting, weight, group_id, group_weight, subgroup_id, pairs_weight, baseline, timestamp, feature_names, feature_tags, thread_count, log_cout, log_cerr, data_can_be_none)\u001b[0m\n\u001b[1;32m    849\u001b[0m         \u001b[38;5;28;01mif\u001b[39;00m \u001b[38;5;28misinstance\u001b[39m(feature_names, PATH_TYPES):\n\u001b[1;32m    850\u001b[0m             \u001b[38;5;28;01mraise\u001b[39;00m CatBoostError(\n\u001b[1;32m    851\u001b[0m                 \u001b[38;5;124m\"\u001b[39m\u001b[38;5;124mfeature_names must be None or have non-string type when the pool is created from \u001b[39m\u001b[38;5;124m\"\u001b[39m\n\u001b[1;32m    852\u001b[0m                 \u001b[38;5;124m\"\u001b[39m\u001b[38;5;124mpython objects.\u001b[39m\u001b[38;5;124m\"\u001b[39m\n\u001b[1;32m    853\u001b[0m             )\n\u001b[0;32m--> 855\u001b[0m         \u001b[38;5;28;43mself\u001b[39;49m\u001b[38;5;241;43m.\u001b[39;49m\u001b[43m_init\u001b[49m\u001b[43m(\u001b[49m\u001b[43mdata\u001b[49m\u001b[43m,\u001b[49m\u001b[43m \u001b[49m\u001b[43mlabel\u001b[49m\u001b[43m,\u001b[49m\u001b[43m \u001b[49m\u001b[43mcat_features\u001b[49m\u001b[43m,\u001b[49m\u001b[43m \u001b[49m\u001b[43mtext_features\u001b[49m\u001b[43m,\u001b[49m\u001b[43m \u001b[49m\u001b[43membedding_features\u001b[49m\u001b[43m,\u001b[49m\u001b[43m \u001b[49m\u001b[43membedding_features_data\u001b[49m\u001b[43m,\u001b[49m\u001b[43m \u001b[49m\u001b[43mpairs\u001b[49m\u001b[43m,\u001b[49m\u001b[43m \u001b[49m\u001b[43mgraph\u001b[49m\u001b[43m,\u001b[49m\u001b[43m \u001b[49m\u001b[43mweight\u001b[49m\u001b[43m,\u001b[49m\n\u001b[1;32m    856\u001b[0m \u001b[43m                   \u001b[49m\u001b[43mgroup_id\u001b[49m\u001b[43m,\u001b[49m\u001b[43m \u001b[49m\u001b[43mgroup_weight\u001b[49m\u001b[43m,\u001b[49m\u001b[43m \u001b[49m\u001b[43msubgroup_id\u001b[49m\u001b[43m,\u001b[49m\u001b[43m \u001b[49m\u001b[43mpairs_weight\u001b[49m\u001b[43m,\u001b[49m\u001b[43m \u001b[49m\u001b[43mbaseline\u001b[49m\u001b[43m,\u001b[49m\u001b[43m \u001b[49m\u001b[43mtimestamp\u001b[49m\u001b[43m,\u001b[49m\u001b[43m \u001b[49m\u001b[43mfeature_names\u001b[49m\u001b[43m,\u001b[49m\u001b[43m \u001b[49m\u001b[43mfeature_tags\u001b[49m\u001b[43m,\u001b[49m\u001b[43m \u001b[49m\u001b[43mthread_count\u001b[49m\u001b[43m)\u001b[49m\n\u001b[1;32m    857\u001b[0m \u001b[38;5;28;01melif\u001b[39;00m \u001b[38;5;129;01mnot\u001b[39;00m data_can_be_none:\n\u001b[1;32m    858\u001b[0m     \u001b[38;5;28;01mraise\u001b[39;00m CatBoostError(\u001b[38;5;124m\"\u001b[39m\u001b[38;5;124m'\u001b[39m\u001b[38;5;124mdata\u001b[39m\u001b[38;5;124m'\u001b[39m\u001b[38;5;124m parameter can\u001b[39m\u001b[38;5;124m'\u001b[39m\u001b[38;5;124mt be None\u001b[39m\u001b[38;5;124m\"\u001b[39m)\n",
      "File \u001b[0;32m~/DS&ML/kaggle/.venv/lib/python3.12/site-packages/catboost/core.py:1491\u001b[0m, in \u001b[0;36mPool._init\u001b[0;34m(self, data, label, cat_features, text_features, embedding_features, embedding_features_data, pairs, graph, weight, group_id, group_weight, subgroup_id, pairs_weight, baseline, timestamp, feature_names, feature_tags, thread_count)\u001b[0m\n\u001b[1;32m   1489\u001b[0m \u001b[38;5;28;01mif\u001b[39;00m feature_tags \u001b[38;5;129;01mis\u001b[39;00m \u001b[38;5;129;01mnot\u001b[39;00m \u001b[38;5;28;01mNone\u001b[39;00m:\n\u001b[1;32m   1490\u001b[0m     feature_tags \u001b[38;5;241m=\u001b[39m \u001b[38;5;28mself\u001b[39m\u001b[38;5;241m.\u001b[39m_check_transform_tags(feature_tags, feature_names)\n\u001b[0;32m-> 1491\u001b[0m \u001b[38;5;28;43mself\u001b[39;49m\u001b[38;5;241;43m.\u001b[39;49m\u001b[43m_init_pool\u001b[49m\u001b[43m(\u001b[49m\u001b[43mdata\u001b[49m\u001b[43m,\u001b[49m\u001b[43m \u001b[49m\u001b[43mlabel\u001b[49m\u001b[43m,\u001b[49m\u001b[43m \u001b[49m\u001b[43mcat_features\u001b[49m\u001b[43m,\u001b[49m\u001b[43m \u001b[49m\u001b[43mtext_features\u001b[49m\u001b[43m,\u001b[49m\u001b[43m \u001b[49m\u001b[43membedding_features\u001b[49m\u001b[43m,\u001b[49m\u001b[43m \u001b[49m\u001b[43membedding_features_data\u001b[49m\u001b[43m,\u001b[49m\u001b[43m \u001b[49m\u001b[43mpairs\u001b[49m\u001b[43m,\u001b[49m\u001b[43m \u001b[49m\u001b[43mgraph\u001b[49m\u001b[43m,\u001b[49m\u001b[43m \u001b[49m\u001b[43mweight\u001b[49m\u001b[43m,\u001b[49m\n\u001b[1;32m   1492\u001b[0m \u001b[43m                \u001b[49m\u001b[43mgroup_id\u001b[49m\u001b[43m,\u001b[49m\u001b[43m \u001b[49m\u001b[43mgroup_weight\u001b[49m\u001b[43m,\u001b[49m\u001b[43m \u001b[49m\u001b[43msubgroup_id\u001b[49m\u001b[43m,\u001b[49m\u001b[43m \u001b[49m\u001b[43mpairs_weight\u001b[49m\u001b[43m,\u001b[49m\u001b[43m \u001b[49m\u001b[43mbaseline\u001b[49m\u001b[43m,\u001b[49m\u001b[43m \u001b[49m\u001b[43mtimestamp\u001b[49m\u001b[43m,\u001b[49m\u001b[43m \u001b[49m\u001b[43mfeature_names\u001b[49m\u001b[43m,\u001b[49m\u001b[43m \u001b[49m\u001b[43mfeature_tags\u001b[49m\u001b[43m,\u001b[49m\u001b[43m \u001b[49m\u001b[43mthread_count\u001b[49m\u001b[43m)\u001b[49m\n",
      "File \u001b[0;32m_catboost.pyx:4339\u001b[0m, in \u001b[0;36m_catboost._PoolBase._init_pool\u001b[0;34m()\u001b[0m\n",
      "File \u001b[0;32m_catboost.pyx:4391\u001b[0m, in \u001b[0;36m_catboost._PoolBase._init_pool\u001b[0;34m()\u001b[0m\n",
      "File \u001b[0;32m_catboost.pyx:4200\u001b[0m, in \u001b[0;36m_catboost._PoolBase._init_features_order_layout_pool\u001b[0;34m()\u001b[0m\n",
      "File \u001b[0;32m_catboost.pyx:3127\u001b[0m, in \u001b[0;36m_catboost._set_features_order_data_pd_data_frame\u001b[0;34m()\u001b[0m\n",
      "File \u001b[0;32m_catboost.pyx:2591\u001b[0m, in \u001b[0;36m_catboost.create_num_factor_data\u001b[0;34m()\u001b[0m\n",
      "File \u001b[0;32m_catboost.pyx:2549\u001b[0m, in \u001b[0;36m_catboost.get_float_feature\u001b[0;34m()\u001b[0m\n",
      "\u001b[0;31mCatBoostError\u001b[0m: Bad value for num_feature[non_default_doc_idx=0,feature_idx=4]=\"No\": Cannot convert 'b'No'' to float"
     ]
    }
   ],
   "source": [
    "# Обучение стекинг-модели\n",
    "stacked_model.fit(X_train, y_train)\n",
    "\n",
    "# Прогнозирование\n",
    "predictions = stacked_model.predict(X_val)\n",
    "\n",
    "rmse_stack = root_mean_squared_error(y_val, predictions)\n",
    "\n",
    "print(f'Stacked models RMSE: {rmse_stack:.5f}')"
   ]
  },
  {
   "cell_type": "markdown",
   "metadata": {},
   "source": [
    "### Test and submission"
   ]
  },
  {
   "cell_type": "markdown",
   "metadata": {},
   "source": [
    "Поскольку для тестирование модели имеется отдельный датасет, можно заново обучить нашу итоговую модель на объединенных данных (train + val)"
   ]
  },
  {
   "cell_type": "code",
   "execution_count": 41,
   "metadata": {},
   "outputs": [
    {
     "data": {
      "text/html": [
       "<div>\n",
       "<style scoped>\n",
       "    .dataframe tbody tr th:only-of-type {\n",
       "        vertical-align: middle;\n",
       "    }\n",
       "\n",
       "    .dataframe tbody tr th {\n",
       "        vertical-align: top;\n",
       "    }\n",
       "\n",
       "    .dataframe thead th {\n",
       "        text-align: right;\n",
       "    }\n",
       "</style>\n",
       "<table border=\"1\" class=\"dataframe\">\n",
       "  <thead>\n",
       "    <tr style=\"text-align: right;\">\n",
       "      <th></th>\n",
       "      <th>id</th>\n",
       "      <th>Price</th>\n",
       "    </tr>\n",
       "  </thead>\n",
       "  <tbody>\n",
       "    <tr>\n",
       "      <th>0</th>\n",
       "      <td>300000</td>\n",
       "      <td>82.019</td>\n",
       "    </tr>\n",
       "    <tr>\n",
       "      <th>1</th>\n",
       "      <td>300001</td>\n",
       "      <td>82.703</td>\n",
       "    </tr>\n",
       "    <tr>\n",
       "      <th>2</th>\n",
       "      <td>300002</td>\n",
       "      <td>81.995</td>\n",
       "    </tr>\n",
       "    <tr>\n",
       "      <th>3</th>\n",
       "      <td>300003</td>\n",
       "      <td>81.614</td>\n",
       "    </tr>\n",
       "    <tr>\n",
       "      <th>4</th>\n",
       "      <td>300004</td>\n",
       "      <td>79.180</td>\n",
       "    </tr>\n",
       "  </tbody>\n",
       "</table>\n",
       "</div>"
      ],
      "text/plain": [
       "       id   Price\n",
       "0  300000  82.019\n",
       "1  300001  82.703\n",
       "2  300002  81.995\n",
       "3  300003  81.614\n",
       "4  300004  79.180"
      ]
     },
     "execution_count": 41,
     "metadata": {},
     "output_type": "execute_result"
    }
   ],
   "source": [
    "X_train_full = pd.concat([X_train, X_val], axis=0)\n",
    "y_train_full = pd.concat([y_train, y_val], axis=0)\n",
    "\n",
    "# Обучение итоговой модели\n",
    "stacked_model.fit(X_train_full, y_train_full)\n",
    "df_test = pd.read_csv('data/test.csv')\n",
    "submission = pd.DataFrame()\n",
    "submission['id'] = df_test['id']\n",
    "X_test = df_test.drop('id', axis=1)\n",
    "\n",
    "# Заменим пропущенные данные в категориальных признаках на `no info`\n",
    "X_test[categorical_cols] = X_test[categorical_cols].fillna('no info')\n",
    "\n",
    "# Заменим пропущенные данные в числовых признаках на медиану\n",
    "X_test['Weight Capacity (kg)'] = X_test['Weight Capacity (kg)'].fillna(median)\n",
    "\n",
    "\n",
    "y_pred = stacked_model.predict(X_test)\n",
    "submission['Price'] = np.round(y_pred, 3)\n",
    "submission.head()"
   ]
  },
  {
   "cell_type": "code",
   "execution_count": 43,
   "metadata": {},
   "outputs": [],
   "source": [
    "submission.to_csv('data/submission.csv', index=False)"
   ]
  }
 ],
 "metadata": {
  "kernelspec": {
   "display_name": ".venv",
   "language": "python",
   "name": "python3"
  },
  "language_info": {
   "codemirror_mode": {
    "name": "ipython",
    "version": 3
   },
   "file_extension": ".py",
   "mimetype": "text/x-python",
   "name": "python",
   "nbconvert_exporter": "python",
   "pygments_lexer": "ipython3",
   "version": "3.12.7"
  }
 },
 "nbformat": 4,
 "nbformat_minor": 2
}
